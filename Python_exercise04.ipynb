{
  "nbformat": 4,
  "nbformat_minor": 0,
  "metadata": {
    "kernelspec": {
      "display_name": "Python 3",
      "language": "python",
      "name": "python3"
    },
    "language_info": {
      "codemirror_mode": {
        "name": "ipython",
        "version": 3
      },
      "file_extension": ".py",
      "mimetype": "text/x-python",
      "name": "python",
      "nbconvert_exporter": "python",
      "pygments_lexer": "ipython3",
      "version": "3.7.3"
    },
    "colab": {
      "name": "Python.exercise04.ipynb",
      "provenance": [],
      "include_colab_link": true
    }
  },
  "cells": [
    {
      "cell_type": "markdown",
      "metadata": {
        "id": "view-in-github",
        "colab_type": "text"
      },
      "source": [
        "<a href=\"https://colab.research.google.com/github/LimYeongJun/Jump-to-python/blob/master/Python_exercise04.ipynb\" target=\"_parent\"><img src=\"https://colab.research.google.com/assets/colab-badge.svg\" alt=\"Open In Colab\"/></a>"
      ]
    },
    {
      "cell_type": "markdown",
      "metadata": {
        "id": "hFoUIAn-V4R9",
        "colab_type": "text"
      },
      "source": [
        "# 4장 연습문제\n",
        "1. 주어진 자연수가 홀수인지 짝수인지 판별해 주는 함수(is_odd)를 작성해 보자."
      ]
    },
    {
      "cell_type": "code",
      "metadata": {
        "id": "_ai9YI1ZV4R_",
        "colab_type": "code",
        "colab": {},
        "outputId": "de285419-2464-4fcd-88f8-b98ebe1a147d"
      },
      "source": [
        "def is_odd(number):\n",
        "    if number % 2 == 1:\n",
        "        return True\n",
        "    else:\n",
        "        return False\n",
        "    \n",
        "is_odd(3)"
      ],
      "execution_count": 0,
      "outputs": [
        {
          "output_type": "execute_result",
          "data": {
            "text/plain": [
              "True"
            ]
          },
          "metadata": {
            "tags": []
          },
          "execution_count": 1
        }
      ]
    },
    {
      "cell_type": "code",
      "metadata": {
        "id": "DW3A-V7qV4SE",
        "colab_type": "code",
        "colab": {},
        "outputId": "5d20fb72-93e7-4435-90db-7cd3e3f7bc2b"
      },
      "source": [
        "is_odd(4)"
      ],
      "execution_count": 0,
      "outputs": [
        {
          "output_type": "execute_result",
          "data": {
            "text/plain": [
              "False"
            ]
          },
          "metadata": {
            "tags": []
          },
          "execution_count": 2
        }
      ]
    },
    {
      "cell_type": "markdown",
      "metadata": {
        "id": "YoTEgcpRV4SK",
        "colab_type": "text"
      },
      "source": [
        "함수를 더 간단하게 만들어보면"
      ]
    },
    {
      "cell_type": "code",
      "metadata": {
        "id": "8VYVwZi1V4SM",
        "colab_type": "code",
        "colab": {},
        "outputId": "61a80c3f-61f4-418b-dfd1-bd5a1a501ab9"
      },
      "source": [
        "is_odd = lambda x: True if x % 2 == 1 else False\n",
        "is_odd(3)"
      ],
      "execution_count": 0,
      "outputs": [
        {
          "output_type": "execute_result",
          "data": {
            "text/plain": [
              "True"
            ]
          },
          "metadata": {
            "tags": []
          },
          "execution_count": 4
        }
      ]
    },
    {
      "cell_type": "markdown",
      "metadata": {
        "id": "jJ1Lzq7HV4SP",
        "colab_type": "text"
      },
      "source": [
        "2. 입력으로 들어오는 모든 수의 평균 값을 계산해 주는 함수를 작성해 보자."
      ]
    },
    {
      "cell_type": "code",
      "metadata": {
        "id": "cWqa9MhbV4SR",
        "colab_type": "code",
        "colab": {},
        "outputId": "18669989-4692-4907-d2c6-3a50b514ce67"
      },
      "source": [
        "def avg_numbers(*args):\n",
        "    result = 0\n",
        "    for i in args:\n",
        "        result += i\n",
        "    return result / len(args)\n",
        "\n",
        "avg_numbers(1,2)"
      ],
      "execution_count": 0,
      "outputs": [
        {
          "output_type": "execute_result",
          "data": {
            "text/plain": [
              "1.5"
            ]
          },
          "metadata": {
            "tags": []
          },
          "execution_count": 6
        }
      ]
    },
    {
      "cell_type": "code",
      "metadata": {
        "id": "3-vX_y7cV4SX",
        "colab_type": "code",
        "colab": {},
        "outputId": "ced61c0f-8e60-4ad8-c19d-5522f04eb1a9"
      },
      "source": [
        "avg_numbers(1,2,3,4,5)"
      ],
      "execution_count": 0,
      "outputs": [
        {
          "output_type": "execute_result",
          "data": {
            "text/plain": [
              "3.0"
            ]
          },
          "metadata": {
            "tags": []
          },
          "execution_count": 7
        }
      ]
    },
    {
      "cell_type": "markdown",
      "metadata": {
        "id": "e4E6PLQcV4Sa",
        "colab_type": "text"
      },
      "source": [
        "3. 다음은 두 개의 숫자를 입력받아 더하여 돌려주는 프로그램이다.\n",
        "\n",
        "input1 = input(\"첫번째 숫자를 입력하세요:\")<br>\n",
        "input2 = input(\"두번째 숫자를 입력하세요:\")<br>\n",
        "\n",
        "total = input1 + input2<br>\n",
        "print(\"두 수의 합은 %s 입니다\" % total)<br>\n",
        "이 프로그램을 수행해 보자.\n",
        "\n",
        "첫번째 숫자를 입력하세요:3\n",
        "두번째 숫자를 입력하세요:6\n",
        "두 수의 합은 36 입니다\n",
        "3과 6을 입력했을 때 9가 아닌 36이라는 결괏값을 돌려주었다. 이 프로그램의 오류를 수정해 보자."
      ]
    },
    {
      "cell_type": "code",
      "metadata": {
        "id": "OiBIqe6QV4Sb",
        "colab_type": "code",
        "colab": {},
        "outputId": "42c5f5ad-0a3c-4884-c318-b0d69ec4ce8a"
      },
      "source": [
        "input1 = input(\"첫번째 숫자를 입력하세요:\")\n",
        "input2 = input(\"두번째 숫자를 입력하세요:\")\n",
        "\n",
        "total = int(input1) + int(input2)\n",
        "print(\"두 수의 합은 %s 입니다\" % total)"
      ],
      "execution_count": 0,
      "outputs": [
        {
          "output_type": "stream",
          "text": [
            "첫번째 숫자를 입력하세요:3\n",
            "두번째 숫자를 입력하세요:6\n",
            "두 수의 합은 9 입니다\n"
          ],
          "name": "stdout"
        }
      ]
    },
    {
      "cell_type": "markdown",
      "metadata": {
        "id": "lwrOAaKsV4Sd",
        "colab_type": "text"
      },
      "source": [
        "이와 같이 입력은 항상 문자열이므로 숫자로 바꾸어 주어야 한다."
      ]
    },
    {
      "cell_type": "markdown",
      "metadata": {
        "id": "1W3dOq2KV4Se",
        "colab_type": "text"
      },
      "source": [
        "**4. 다음 중 출력 결과가 다른 것 한 개를 고르시오.**\n",
        " - print(\"you\" \"need\" \"python\")\n",
        " - print(\"you\"+\"need\"+\"python\")\n",
        " - print(\"you\", \"need\", \"python\")\n",
        " - print(\"\".join([\"you\", \"need\", \"python\"]))"
      ]
    },
    {
      "cell_type": "code",
      "metadata": {
        "id": "6F2MgVwFV4Sf",
        "colab_type": "code",
        "colab": {},
        "outputId": "427c3a76-fef2-4723-d1a2-680739d2fd01"
      },
      "source": [
        "print(\"you\" \"need\" \"python\")"
      ],
      "execution_count": 0,
      "outputs": [
        {
          "output_type": "stream",
          "text": [
            "youneedpython\n"
          ],
          "name": "stdout"
        }
      ]
    },
    {
      "cell_type": "code",
      "metadata": {
        "id": "qr3nPZxcV4Sh",
        "colab_type": "code",
        "colab": {},
        "outputId": "038cf0a4-f9b5-4694-fb85-94ed4a3cdfdd"
      },
      "source": [
        "print(\"you\" + \"need\" + \"python\")"
      ],
      "execution_count": 0,
      "outputs": [
        {
          "output_type": "stream",
          "text": [
            "youneedpython\n"
          ],
          "name": "stdout"
        }
      ]
    },
    {
      "cell_type": "code",
      "metadata": {
        "id": "_DJtUkyoV4Sk",
        "colab_type": "code",
        "colab": {},
        "outputId": "bec9074b-6a12-41f4-9498-a972d0b1c804"
      },
      "source": [
        "print(\"you\", \"need\", \"python\")"
      ],
      "execution_count": 0,
      "outputs": [
        {
          "output_type": "stream",
          "text": [
            "you need python\n"
          ],
          "name": "stdout"
        }
      ]
    },
    {
      "cell_type": "code",
      "metadata": {
        "id": "k2UIC7REV4Sm",
        "colab_type": "code",
        "colab": {},
        "outputId": "4235c110-3e69-485a-b88e-38737dc7c9e1"
      },
      "source": [
        "print(\"\".join([\"you\", \"need\", \"python\"]))"
      ],
      "execution_count": 0,
      "outputs": [
        {
          "output_type": "stream",
          "text": [
            "youneedpython\n"
          ],
          "name": "stdout"
        }
      ]
    },
    {
      "cell_type": "markdown",
      "metadata": {
        "id": "PwEA9t9WV4So",
        "colab_type": "text"
      },
      "source": [
        "이와 같이 콤마(,)가 있는 경우 공백이 삽입된다."
      ]
    },
    {
      "cell_type": "markdown",
      "metadata": {
        "id": "w2izodBbV4Sp",
        "colab_type": "text"
      },
      "source": [
        "**5. 다음은 \"test.txt\"라는 파일에 \"Life is too short\" 문자열을 저장한 후 다시 그 파일을 읽어서 출력하는 프로그램이다.<br>**\n",
        "\n",
        "**f1 = open(\"test.txt\", 'w')<br>**\n",
        "**f1.write(\"Life is too short\")<br>**\n",
        "\n",
        "**f2 = open(\"test.txt\", 'r')<br>**\n",
        "**print(f2.read())이 프로그램은 우리가 예상한 \"Life is too short\"라는 문장을 출력하지 않는다. 우리가 예상한 값을 출력할 수 있도록 프로그램을 수정해 보자.**"
      ]
    },
    {
      "cell_type": "code",
      "metadata": {
        "id": "-mDWqCtBV4Sq",
        "colab_type": "code",
        "colab": {},
        "outputId": "6f1adb6d-e295-4ad2-c026-3b5ee0e12f37"
      },
      "source": [
        "f1 = open(\"test.txt\", 'w')\n",
        "f1.write(\"Life is too short!\")\n",
        "f1.close()\n",
        "\n",
        "f2 = open(\"test.txt\", 'r')\n",
        "print(f2.read())\n",
        "f2.close()"
      ],
      "execution_count": 0,
      "outputs": [
        {
          "output_type": "stream",
          "text": [
            "Life is too short!\n"
          ],
          "name": "stdout"
        }
      ]
    },
    {
      "cell_type": "markdown",
      "metadata": {
        "id": "LNC9HC7_V4Ss",
        "colab_type": "text"
      },
      "source": [
        "이와 같이 항상 열린 파일 객체를 닫아주어야 한다."
      ]
    },
    {
      "cell_type": "code",
      "metadata": {
        "id": "cJZs5iKWV4Ss",
        "colab_type": "code",
        "colab": {},
        "outputId": "89b6c8c7-c2b4-4ead-f14e-ac69505cc078"
      },
      "source": [
        "with open(\"test.txt\", 'w') as f1:\n",
        "    f1.write(\"Life is too short! \")\n",
        "with open(\"test.txt\", 'r') as f2:\n",
        "    print(f2.read())"
      ],
      "execution_count": 0,
      "outputs": [
        {
          "output_type": "stream",
          "text": [
            "Life is too short! \n"
          ],
          "name": "stdout"
        }
      ]
    },
    {
      "cell_type": "markdown",
      "metadata": {
        "id": "kNVuSm-FV4Sv",
        "colab_type": "text"
      },
      "source": [
        "이와 같이 파일을 닫을 필요가 없는 with 구문을 사용해도 된다."
      ]
    },
    {
      "cell_type": "markdown",
      "metadata": {
        "id": "-hyeCMCgV4Sv",
        "colab_type": "text"
      },
      "source": [
        "6. 사용자의 입력을 파일(test.txt)에 저장하는 프로그램을 작성해 보자. (단 프로그램을 다시 실행하더라도 기존에 작성한 내용을 유지하고 새로 입력한 내용을 추가해야 한다.)"
      ]
    },
    {
      "cell_type": "code",
      "metadata": {
        "id": "NcDXbKKIV4Sw",
        "colab_type": "code",
        "colab": {},
        "outputId": "2c6159e8-3c98-44c3-8d0c-cf85ae40f7e8"
      },
      "source": [
        "user_input = input(\"저장할 내용을 입력하세요:\")\n",
        "f = open('test.txt', 'a')\n",
        "f.write(user_input)\n",
        "f.write(\"\\n\")\n",
        "f.close()"
      ],
      "execution_count": 0,
      "outputs": [
        {
          "output_type": "stream",
          "text": [
            "저장할 내용을 입력하세요:save\n"
          ],
          "name": "stdout"
        }
      ]
    },
    {
      "cell_type": "markdown",
      "metadata": {
        "id": "lHzb5cKVV4Sy",
        "colab_type": "text"
      },
      "source": [
        "7. 다음과 같은 내용을 지닌 파일 test.txt가 있다. 이 파일의 내용 중 \"java\"라는 문자열을 \"python\"으로 바꾸어서 저장해 보자.\n",
        "\n",
        "Life is too short<br>you need java"
      ]
    },
    {
      "cell_type": "code",
      "metadata": {
        "id": "bKVHcFjAV4Sz",
        "colab_type": "code",
        "colab": {}
      },
      "source": [
        "f = open('test.txt', 'r')\n",
        "body = f.read()\n",
        "f.close()\n",
        "\n",
        "body = body.replace('java', 'python') #replace 내장함수 사용\n",
        "\n",
        "f = open('test.txt', 'w')\n",
        "f.write(body)\n",
        "f.close()"
      ],
      "execution_count": 0,
      "outputs": []
    },
    {
      "cell_type": "code",
      "metadata": {
        "id": "ulimZSUMV4S1",
        "colab_type": "code",
        "colab": {}
      },
      "source": [
        ""
      ],
      "execution_count": 0,
      "outputs": []
    }
  ]
}