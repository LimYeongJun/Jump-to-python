{
  "nbformat": 4,
  "nbformat_minor": 0,
  "metadata": {
    "kernelspec": {
      "display_name": "Python 3",
      "language": "python",
      "name": "python3"
    },
    "language_info": {
      "codemirror_mode": {
        "name": "ipython",
        "version": 3
      },
      "file_extension": ".py",
      "mimetype": "text/x-python",
      "name": "python",
      "nbconvert_exporter": "python",
      "pygments_lexer": "ipython3",
      "version": "3.7.3"
    },
    "colab": {
      "name": "Jump to python 연습문제 2장 & 3장-Copy1.ipynb",
      "provenance": [],
      "include_colab_link": true
    }
  },
  "cells": [
    {
      "cell_type": "markdown",
      "metadata": {
        "id": "view-in-github",
        "colab_type": "text"
      },
      "source": [
        "<a href=\"https://colab.research.google.com/github/LimYeongJun/Jump-to-python/blob/master/Jump_to_python_%EC%97%B0%EC%8A%B5%EB%AC%B8%EC%A0%9C_2%EC%9E%A5_%26_3%EC%9E%A5_Copy1.ipynb\" target=\"_parent\"><img src=\"https://colab.research.google.com/assets/colab-badge.svg\" alt=\"Open In Colab\"/></a>"
      ]
    },
    {
      "cell_type": "markdown",
      "metadata": {
        "id": "5uF6Wtgf7d27",
        "colab_type": "text"
      },
      "source": [
        "# 02장 연습문제\n",
        "\n",
        "**Q1. 홍길동 씨의 과목별 점수는 다음과 같다. 홍길동 씨의 평균 점수를 구해 보자.**"
      ]
    },
    {
      "cell_type": "code",
      "metadata": {
        "id": "1pJV3ufg7d2-",
        "colab_type": "code",
        "colab": {},
        "outputId": "d6236b94-652c-4eab-b3b2-41cac66cae98"
      },
      "source": [
        "a = 80\n",
        "b = 75\n",
        "c = 55\n",
        "\n",
        "(a+b+c) / 3"
      ],
      "execution_count": 0,
      "outputs": [
        {
          "output_type": "execute_result",
          "data": {
            "text/plain": [
              "70.0"
            ]
          },
          "metadata": {
            "tags": []
          },
          "execution_count": 47
        }
      ]
    },
    {
      "cell_type": "markdown",
      "metadata": {
        "id": "JiSqKLe47d3F",
        "colab_type": "text"
      },
      "source": [
        "**Q2. 자연수 13이 홀수인지 짝수인지 판별할 수 있는 방법에 대해 말해 보자.**"
      ]
    },
    {
      "cell_type": "code",
      "metadata": {
        "id": "zU8j3qP17d3G",
        "colab_type": "code",
        "colab": {},
        "outputId": "38fa8f85-487d-434c-a417-573777cb705d"
      },
      "source": [
        "13 % 2"
      ],
      "execution_count": 0,
      "outputs": [
        {
          "output_type": "execute_result",
          "data": {
            "text/plain": [
              "1"
            ]
          },
          "metadata": {
            "tags": []
          },
          "execution_count": 48
        }
      ]
    },
    {
      "cell_type": "markdown",
      "metadata": {
        "id": "tExl82J-7d3L",
        "colab_type": "text"
      },
      "source": [
        "위 결과와 같이 나머지가 1로 출력되므로 **홀수** 라고 할 수 있다."
      ]
    },
    {
      "cell_type": "markdown",
      "metadata": {
        "id": "UtJinegl7d3N",
        "colab_type": "text"
      },
      "source": [
        "**Q3. 홍길동 씨의 주민등록번호는 881120-1068234이다. 홍길동 씨의 주민등록번호를 연월일(YYYYMMDD) 부분과 그 뒤의 숫자 부분으로 나누어 출력해 보자.**"
      ]
    },
    {
      "cell_type": "code",
      "metadata": {
        "id": "rEsb2aBV7d3P",
        "colab_type": "code",
        "colab": {},
        "outputId": "005e7190-ae2a-496a-d236-fa5660d332d7"
      },
      "source": [
        "a = \"881120-1068234\"\n",
        "yyyymmdd = a[:6]\n",
        "num = a[7:]\n",
        "print(yyyymmdd)\n",
        "print(num)"
      ],
      "execution_count": 0,
      "outputs": [
        {
          "output_type": "stream",
          "text": [
            "881120\n",
            "1068234\n"
          ],
          "name": "stdout"
        }
      ]
    },
    {
      "cell_type": "markdown",
      "metadata": {
        "id": "bfDE7F3L7d3U",
        "colab_type": "text"
      },
      "source": [
        "**Q4. 주민등록번호 뒷자리의 맨 첫 번째 숫자는 성별을 나타낸다. 주민등록번호에서 성별을 나타내는 숫자를 출력해 보자.**"
      ]
    },
    {
      "cell_type": "code",
      "metadata": {
        "id": "vn7OziJ17d3W",
        "colab_type": "code",
        "colab": {},
        "outputId": "275eb81a-cc07-4842-e2e4-b286b4b7bdbb"
      },
      "source": [
        "pin = \"881120-1068234\"\n",
        "pin[7]"
      ],
      "execution_count": 0,
      "outputs": [
        {
          "output_type": "execute_result",
          "data": {
            "text/plain": [
              "'1'"
            ]
          },
          "metadata": {
            "tags": []
          },
          "execution_count": 50
        }
      ]
    },
    {
      "cell_type": "markdown",
      "metadata": {
        "id": "a6psz2gN7d3a",
        "colab_type": "text"
      },
      "source": [
        "**Q5. 다음과 같은 문자열 a:b:c:d가 있다. 문자열의 replace 함수를 사용하여 a#b#c#d로 바꿔서 출력해 보자.**"
      ]
    },
    {
      "cell_type": "code",
      "metadata": {
        "id": "a8zuvGxx7d3c",
        "colab_type": "code",
        "colab": {},
        "outputId": "be61328c-efa1-46dc-b4e3-5624babbdbd0"
      },
      "source": [
        "a = \"a:b:c:d\"\n",
        "b = a.replace(\":\", \"#\")\n",
        "print(b)"
      ],
      "execution_count": 0,
      "outputs": [
        {
          "output_type": "stream",
          "text": [
            "a#b#c#d\n"
          ],
          "name": "stdout"
        }
      ]
    },
    {
      "cell_type": "markdown",
      "metadata": {
        "id": "Rr664o077d3h",
        "colab_type": "text"
      },
      "source": [
        "**Q6. [1, 3, 5, 4, 2] 리스트를 [5, 4, 3, 2, 1]로 만들어 보자.**"
      ]
    },
    {
      "cell_type": "code",
      "metadata": {
        "id": "D_sTMUvn7d3i",
        "colab_type": "code",
        "colab": {},
        "outputId": "05ad8295-7284-422b-8c4f-f83e83ba85a3"
      },
      "source": [
        "a = [1,3,5,4,2]\n",
        "a.sort()\n",
        "a.reverse()\n",
        "print(a)"
      ],
      "execution_count": 0,
      "outputs": [
        {
          "output_type": "stream",
          "text": [
            "[5, 4, 3, 2, 1]\n"
          ],
          "name": "stdout"
        }
      ]
    },
    {
      "cell_type": "markdown",
      "metadata": {
        "id": "aVOmd_zx7d3n",
        "colab_type": "text"
      },
      "source": [
        "**Q7. ['Life', 'is', 'too', 'short'] 리스트를 Life is too short 문자열로 만들어 출력해 보자.**"
      ]
    },
    {
      "cell_type": "code",
      "metadata": {
        "id": "bUzU1Pnm7d3p",
        "colab_type": "code",
        "colab": {},
        "outputId": "1c9e60dc-feac-4073-d8dd-c3e3fe167a3e"
      },
      "source": [
        "a = ['Life', 'is', 'too', 'short']\n",
        "b = \" \".join(a)\n",
        "print(b)"
      ],
      "execution_count": 0,
      "outputs": [
        {
          "output_type": "stream",
          "text": [
            "Life is too short\n"
          ],
          "name": "stdout"
        }
      ]
    },
    {
      "cell_type": "markdown",
      "metadata": {
        "id": "3Yq8UkWe7d3u",
        "colab_type": "text"
      },
      "source": [
        "**Q8. (1,2,3) 튜플에 값 4를 추가하여 (1,2,3,4)를 만들어 출력해 보자.**"
      ]
    },
    {
      "cell_type": "code",
      "metadata": {
        "id": "gysU3SrR7d3v",
        "colab_type": "code",
        "colab": {},
        "outputId": "a457b2dd-b9f9-4751-c620-511f5ec54d73"
      },
      "source": [
        "a = (1, 2, 3)\n",
        "a = a + (4,)\n",
        "print(a)"
      ],
      "execution_count": 0,
      "outputs": [
        {
          "output_type": "stream",
          "text": [
            "(1, 2, 3, 4)\n"
          ],
          "name": "stdout"
        }
      ]
    },
    {
      "cell_type": "markdown",
      "metadata": {
        "id": "A52uy5KA7d30",
        "colab_type": "text"
      },
      "source": [
        "**Q9. 다음과 같은 딕셔너리 a가 있다.**\n",
        "\n",
        "a = dict()<br>\n",
        "a<br>\n",
        "{}<br>\n",
        "\n",
        "다음 중 오류가 발생하는 경우를 고르고, 그 이유를 설명해 보자.\n",
        "\n",
        "1. a['name'] = 'python'\n",
        "2. a[('a',)] = 'python'\n",
        "3. a[[1]] = 'python'\n",
        "4. a[250] = 'python'\n",
        "--------------------------------------------------------------------------------\n",
        "각각 한번 실행 해 보자."
      ]
    },
    {
      "cell_type": "code",
      "metadata": {
        "id": "2UHD9YQX7d31",
        "colab_type": "code",
        "colab": {}
      },
      "source": [
        "a = dict()\n",
        "a\n",
        "\n",
        "a['name'] = 'python'"
      ],
      "execution_count": 0,
      "outputs": []
    },
    {
      "cell_type": "markdown",
      "metadata": {
        "id": "CyzJWssM7d35",
        "colab_type": "text"
      },
      "source": [
        "오류가 발생하지 않는다."
      ]
    },
    {
      "cell_type": "code",
      "metadata": {
        "id": "2hbwYXo97d36",
        "colab_type": "code",
        "colab": {}
      },
      "source": [
        "a = dict()\n",
        "a\n",
        "\n",
        "a[('a',)] = 'python'"
      ],
      "execution_count": 0,
      "outputs": []
    },
    {
      "cell_type": "markdown",
      "metadata": {
        "id": "j7fnnJyd7d3_",
        "colab_type": "text"
      },
      "source": [
        "오류가 발생하지 않는다."
      ]
    },
    {
      "cell_type": "code",
      "metadata": {
        "id": "HvDl27Yg7d4B",
        "colab_type": "code",
        "colab": {},
        "outputId": "212a8250-6713-42f1-dcfe-ed51d4493a49"
      },
      "source": [
        "a = dict()\n",
        "a\n",
        "\n",
        "a[[1]] = 'python'"
      ],
      "execution_count": 0,
      "outputs": [
        {
          "output_type": "error",
          "ename": "TypeError",
          "evalue": "unhashable type: 'list'",
          "traceback": [
            "\u001b[1;31m---------------------------------------------------------------------------\u001b[0m",
            "\u001b[1;31mTypeError\u001b[0m                                 Traceback (most recent call last)",
            "\u001b[1;32m<ipython-input-57-e90295fbc01e>\u001b[0m in \u001b[0;36m<module>\u001b[1;34m\u001b[0m\n\u001b[0;32m      2\u001b[0m \u001b[0ma\u001b[0m\u001b[1;33m\u001b[0m\u001b[1;33m\u001b[0m\u001b[0m\n\u001b[0;32m      3\u001b[0m \u001b[1;33m\u001b[0m\u001b[0m\n\u001b[1;32m----> 4\u001b[1;33m \u001b[0ma\u001b[0m\u001b[1;33m[\u001b[0m\u001b[1;33m[\u001b[0m\u001b[1;36m1\u001b[0m\u001b[1;33m]\u001b[0m\u001b[1;33m]\u001b[0m \u001b[1;33m=\u001b[0m \u001b[1;34m'python'\u001b[0m\u001b[1;33m\u001b[0m\u001b[1;33m\u001b[0m\u001b[0m\n\u001b[0m",
            "\u001b[1;31mTypeError\u001b[0m: unhashable type: 'list'"
          ]
        }
      ]
    },
    {
      "cell_type": "markdown",
      "metadata": {
        "id": "cbfbqa4C7d4G",
        "colab_type": "text"
      },
      "source": [
        "오류가 발생한다. 그 이유는 딕셔너리의 키는 변하는 값을 사용할 수 없기 때문이다. 위에서 사용한 [1]은 리스트로써 변하는 값이기 때문에 오류가 나타나는 것이다."
      ]
    },
    {
      "cell_type": "code",
      "metadata": {
        "id": "lVhbIwwS7d4G",
        "colab_type": "code",
        "colab": {}
      },
      "source": [
        "a = dict()\n",
        "a\n",
        "\n",
        "a[250] = 'python'"
      ],
      "execution_count": 0,
      "outputs": []
    },
    {
      "cell_type": "markdown",
      "metadata": {
        "id": "_L5uE9HV7d4K",
        "colab_type": "text"
      },
      "source": [
        "오류가 발생하지 않는다."
      ]
    },
    {
      "cell_type": "markdown",
      "metadata": {
        "id": "8uxD0EpC7d4L",
        "colab_type": "text"
      },
      "source": [
        "**Q10. 딕셔너리 a에서 'B'에 해당되는 값을 추출해 보자.**"
      ]
    },
    {
      "cell_type": "code",
      "metadata": {
        "id": "HYJvhzc87d4M",
        "colab_type": "code",
        "colab": {},
        "outputId": "9533c115-7c62-4fe2-85ea-48dff8ed4582"
      },
      "source": [
        "a = {'A':90, 'B':80, 'c':70}\n",
        "b = a.pop('B')\n",
        "print(a)\n",
        "print(b)"
      ],
      "execution_count": 0,
      "outputs": [
        {
          "output_type": "stream",
          "text": [
            "{'A': 90, 'c': 70}\n",
            "80\n"
          ],
          "name": "stdout"
        }
      ]
    },
    {
      "cell_type": "markdown",
      "metadata": {
        "id": "-olc4Cho7d4R",
        "colab_type": "text"
      },
      "source": [
        "**Q11. a 리스트에서 중복 숫자를 제거해 보자.**"
      ]
    },
    {
      "cell_type": "code",
      "metadata": {
        "id": "cRvlfRbH7d4S",
        "colab_type": "code",
        "colab": {},
        "outputId": "f2a01df3-8b94-4cbe-8610-496d1bc264ee"
      },
      "source": [
        "a = [1, 1, 1, 2, 2, 3, 3, 3, 4, 4, 5]\n",
        "\n",
        "aSet = set(a)\n",
        "b = list(aSet)\n",
        "print(b)"
      ],
      "execution_count": 0,
      "outputs": [
        {
          "output_type": "stream",
          "text": [
            "[1, 2, 3, 4, 5]\n"
          ],
          "name": "stdout"
        }
      ]
    },
    {
      "cell_type": "markdown",
      "metadata": {
        "id": "E1vcsH247d4Z",
        "colab_type": "text"
      },
      "source": [
        "**리스트 자료형이 집합 자료형으로 변환되면서 중복된 값들은 사라지게 됨.**"
      ]
    },
    {
      "cell_type": "markdown",
      "metadata": {
        "id": "-Cqv3xtn7d4b",
        "colab_type": "text"
      },
      "source": [
        "**Q12.파이썬은 다음처럼 동일한 값에 여러 개의 변수를 선언할 수 있다. 다음과 같이 a, b 변수를 선언한 후 a의 두 번째 요솟값을 변경하면 b 값은 어떻게 될까? 그리고 이런 결과가 오는 이유에 대해 설명해 보자.**"
      ]
    },
    {
      "cell_type": "code",
      "metadata": {
        "id": "yxj1wC8C7d4e",
        "colab_type": "code",
        "colab": {},
        "outputId": "f1803e71-e5b9-4470-fc9d-df3999f1c89a"
      },
      "source": [
        "a = b = [1, 2, 3]\n",
        "a[1] = 4\n",
        "print(b)"
      ],
      "execution_count": 0,
      "outputs": [
        {
          "output_type": "stream",
          "text": [
            "[1, 4, 3]\n"
          ],
          "name": "stdout"
        }
      ]
    },
    {
      "cell_type": "markdown",
      "metadata": {
        "id": "tMEYTJSP7d4n",
        "colab_type": "text"
      },
      "source": [
        "리스트 자료형으로 [1, 4, 3]이 출력된다. 왜냐하면 a 와 b 모두 동일한 [1, 2, 3]의 리스트 객체를 가리키고 있기 때문이다."
      ]
    },
    {
      "cell_type": "markdown",
      "metadata": {
        "id": "aUim1XAi7d4p",
        "colab_type": "text"
      },
      "source": [
        "# 3장 연습문제\n",
        "\n",
        "**Q1. 다음 코드의 결괏값은 무엇일까?**"
      ]
    },
    {
      "cell_type": "code",
      "metadata": {
        "id": "zNj9IU8_7d4u",
        "colab_type": "code",
        "colab": {},
        "outputId": "d3b4ea80-7325-4c9d-856f-8b66179ba523"
      },
      "source": [
        "a = \"Life is too short, you need python\"\n",
        "\n",
        "if \"wife\" in a:\n",
        "    print(\"wife\")\n",
        "elif \"python\" in a and \"you\" not in a:\n",
        "    print(\"python\")\n",
        "elif \"shirt\" not in a:\n",
        "    print(\"shirt\")\n",
        "elif \"need\" in a:\n",
        "    print(\"need\")\n",
        "else:\n",
        "    print(\"none\")"
      ],
      "execution_count": 0,
      "outputs": [
        {
          "output_type": "stream",
          "text": [
            "shirt\n"
          ],
          "name": "stdout"
        }
      ]
    },
    {
      "cell_type": "markdown",
      "metadata": {
        "id": "sEojVBU27d4x",
        "colab_type": "text"
      },
      "source": [
        "3번째 조건과 4번째 조건이 참의 결과를 출력하고, 가장 먼저 참으로 나타난 조건은 3번째 이므로 \"shirt\" 가 출력된다."
      ]
    },
    {
      "cell_type": "markdown",
      "metadata": {
        "id": "asLXCNtr7d4z",
        "colab_type": "text"
      },
      "source": [
        "**Q2. while문을 사용해 1부터 1000까지의 자연수 중 3의 배수의 합을 구해 보자.**"
      ]
    },
    {
      "cell_type": "code",
      "metadata": {
        "id": "n7zPg2357d41",
        "colab_type": "code",
        "colab": {},
        "outputId": "8fdbd10c-84f9-4f89-8eaa-182b416ad5b8"
      },
      "source": [
        "result = 0\n",
        "i = 1\n",
        "while i <= 1000:\n",
        "    if i % 3 == 0:\n",
        "        result += i\n",
        "    i += 1\n",
        "    \n",
        "print(result)"
      ],
      "execution_count": 0,
      "outputs": [
        {
          "output_type": "stream",
          "text": [
            "166833\n"
          ],
          "name": "stdout"
        }
      ]
    },
    {
      "cell_type": "markdown",
      "metadata": {
        "id": "nFauHFMH7d46",
        "colab_type": "text"
      },
      "source": [
        "3의 배수는 3으로 나누었을 때 나누어 떨어지는(나머지가 0인)수이다. 이를 while문을 이용하여 반복해서 출력값을 구했더니 166833 이 출력되었다."
      ]
    },
    {
      "cell_type": "markdown",
      "metadata": {
        "id": "HI8SPf1-7d48",
        "colab_type": "text"
      },
      "source": [
        "**Q3. while문을 사용하여 다음과 같이 별(*)을 표시하는 프로그램을 작성해 보자.**\n",
        "\n",
        "\\* <br> \\*\\* <br> \\*\\*\\* <br> \\*\\*\\*\\* <br> \\*\\*\\*\\*\\*\n"
      ]
    },
    {
      "cell_type": "code",
      "metadata": {
        "id": "7Xr4ld9V7d49",
        "colab_type": "code",
        "colab": {},
        "outputId": "5e986779-f5f9-4dfc-a412-07e2b8ca5302"
      },
      "source": [
        "i = 0\n",
        "while True:\n",
        "    i += 1\n",
        "    if i > 5: break\n",
        "    print('*' * i)"
      ],
      "execution_count": 0,
      "outputs": [
        {
          "output_type": "stream",
          "text": [
            "*\n",
            "**\n",
            "***\n",
            "****\n",
            "*****\n"
          ],
          "name": "stdout"
        }
      ]
    },
    {
      "cell_type": "markdown",
      "metadata": {
        "id": "2F1e5d687d5D",
        "colab_type": "text"
      },
      "source": [
        "**Q4. for문을 사용해 1부터 100까지의 숫자를 출력해 보자.**"
      ]
    },
    {
      "cell_type": "code",
      "metadata": {
        "id": "HjcnPdJX7d5F",
        "colab_type": "code",
        "colab": {},
        "outputId": "55960c84-8bd6-4475-f51a-2fe305ea4585"
      },
      "source": [
        "for i in range(1, 101):\n",
        "    print(i)"
      ],
      "execution_count": 0,
      "outputs": [
        {
          "output_type": "stream",
          "text": [
            "1\n",
            "2\n",
            "3\n",
            "4\n",
            "5\n",
            "6\n",
            "7\n",
            "8\n",
            "9\n",
            "10\n",
            "11\n",
            "12\n",
            "13\n",
            "14\n",
            "15\n",
            "16\n",
            "17\n",
            "18\n",
            "19\n",
            "20\n",
            "21\n",
            "22\n",
            "23\n",
            "24\n",
            "25\n",
            "26\n",
            "27\n",
            "28\n",
            "29\n",
            "30\n",
            "31\n",
            "32\n",
            "33\n",
            "34\n",
            "35\n",
            "36\n",
            "37\n",
            "38\n",
            "39\n",
            "40\n",
            "41\n",
            "42\n",
            "43\n",
            "44\n",
            "45\n",
            "46\n",
            "47\n",
            "48\n",
            "49\n",
            "50\n",
            "51\n",
            "52\n",
            "53\n",
            "54\n",
            "55\n",
            "56\n",
            "57\n",
            "58\n",
            "59\n",
            "60\n",
            "61\n",
            "62\n",
            "63\n",
            "64\n",
            "65\n",
            "66\n",
            "67\n",
            "68\n",
            "69\n",
            "70\n",
            "71\n",
            "72\n",
            "73\n",
            "74\n",
            "75\n",
            "76\n",
            "77\n",
            "78\n",
            "79\n",
            "80\n",
            "81\n",
            "82\n",
            "83\n",
            "84\n",
            "85\n",
            "86\n",
            "87\n",
            "88\n",
            "89\n",
            "90\n",
            "91\n",
            "92\n",
            "93\n",
            "94\n",
            "95\n",
            "96\n",
            "97\n",
            "98\n",
            "99\n",
            "100\n"
          ],
          "name": "stdout"
        }
      ]
    },
    {
      "cell_type": "markdown",
      "metadata": {
        "id": "YpUfaL--7d5K",
        "colab_type": "text"
      },
      "source": [
        "**Q5. A 학급에 총 10명의 학생이 있다. 이 학생들의 중간고사 점수는 다음과 같다.**\n",
        "\n",
        "[70, 60, 55, 75, 95, 90, 80, 80, 85, 100]\n",
        "\n",
        "for문을 사용하여 A 학급의 평균 점수를 구해 보자."
      ]
    },
    {
      "cell_type": "code",
      "metadata": {
        "id": "-XsmhS7S7d5L",
        "colab_type": "code",
        "colab": {},
        "outputId": "e6066920-01ca-4c03-baba-d9daa9e3e124"
      },
      "source": [
        "A = [70,60,55,75,95,90,80,80,85,100]\n",
        "total = 0\n",
        "\n",
        "for score in A:\n",
        "    total += score\n",
        "    \n",
        "average = total / len(A)\n",
        "print(average)"
      ],
      "execution_count": 0,
      "outputs": [
        {
          "output_type": "stream",
          "text": [
            "79.0\n"
          ],
          "name": "stdout"
        }
      ]
    },
    {
      "cell_type": "markdown",
      "metadata": {
        "id": "MFLNwR9n7d5Q",
        "colab_type": "text"
      },
      "source": [
        "**Q6. 리스트 중에서 홀수에만 2를 곱하여 저장하는 다음 코드가 있다.**\n",
        "\n",
        "numbers = [1, 2, 3, 4, 5]\n",
        "result = []\n",
        "for n in numbers:\n",
        "    if n % 2 == 1:\n",
        "        result.append(n*2)\n",
        "        \n",
        "위 코드를 리스트 내포(list comprehension)를 사용하여 표현해 보자."
      ]
    },
    {
      "cell_type": "code",
      "metadata": {
        "id": "qYzTzJ9h7d5S",
        "colab_type": "code",
        "colab": {},
        "outputId": "76662b09-bc00-406f-89d1-7bbbc373f2ca"
      },
      "source": [
        "numbers = [1,2,3,4,5]\n",
        "result = [n*2 for n in numbers if n%2==1]\n",
        "print(result)"
      ],
      "execution_count": 0,
      "outputs": [
        {
          "output_type": "stream",
          "text": [
            "[2, 6, 10]\n"
          ],
          "name": "stdout"
        }
      ]
    },
    {
      "cell_type": "code",
      "metadata": {
        "id": "3nQz3UIJ7d5Y",
        "colab_type": "code",
        "colab": {}
      },
      "source": [
        ""
      ],
      "execution_count": 0,
      "outputs": []
    }
  ]
}