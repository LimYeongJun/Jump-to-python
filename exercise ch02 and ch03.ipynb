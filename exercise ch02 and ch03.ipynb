{
  "nbformat": 4,
  "nbformat_minor": 0,
  "metadata": {
    "kernelspec": {
      "display_name": "Python 3",
      "language": "python",
      "name": "python3"
    },
    "language_info": {
      "codemirror_mode": {
        "name": "ipython",
        "version": 3
      },
      "file_extension": ".py",
      "mimetype": "text/x-python",
      "name": "python",
      "nbconvert_exporter": "python",
      "pygments_lexer": "ipython3",
      "version": "3.7.3"
    },
    "colab": {
      "name": "Jump to python 연습문제 2장 & 3장-Copy1.ipynb",
      "provenance": [],
      "include_colab_link": true
    }
  },
  "cells": [
    {
      "cell_type": "markdown",
      "metadata": {
        "id": "view-in-github",
        "colab_type": "text"
      },
      "source": [
        "<a href=\"https://colab.research.google.com/github/LimYeongJun/Jump-to-python/blob/master/exercise%20ch02%20and%20ch03.ipynb\" target=\"_parent\"><img src=\"https://colab.research.google.com/assets/colab-badge.svg\" alt=\"Open In Colab\"/></a>"
      ]
    },
    {
      "cell_type": "markdown",
      "metadata": {
        "id": "V5JbU5uE-4jo",
        "colab_type": "text"
      },
      "source": [
        "# 02장 연습문제\n",
        "\n",
        "**Q1. 홍길동 씨의 과목별 점수는 다음과 같다. 홍길동 씨의 평균 점수를 구해 보자.**"
      ]
    },
    {
      "cell_type": "code",
      "metadata": {
        "id": "P4lBpxLt-4jr",
        "colab_type": "code",
        "colab": {},
        "outputId": "6dbc74e1-73eb-450b-bc79-7cc956eba161"
      },
      "source": [
        "a = 80\n",
        "b = 75\n",
        "c = 55\n",
        "\n",
        "(a+b+c) / 3"
      ],
      "execution_count": 0,
      "outputs": [
        {
          "output_type": "execute_result",
          "data": {
            "text/plain": [
              "70.0"
            ]
          },
          "metadata": {
            "tags": []
          },
          "execution_count": 47
        }
      ]
    },
    {
      "cell_type": "markdown",
      "metadata": {
        "id": "GRJ_cHVb-4jx",
        "colab_type": "text"
      },
      "source": [
        "**Q2. 자연수 13이 홀수인지 짝수인지 판별할 수 있는 방법에 대해 말해 보자.**"
      ]
    },
    {
      "cell_type": "code",
      "metadata": {
        "id": "JSjlQ9eJ-4jz",
        "colab_type": "code",
        "colab": {},
        "outputId": "37667633-147f-402b-98d9-e422bcc9b8f3"
      },
      "source": [
        "13 % 2"
      ],
      "execution_count": 0,
      "outputs": [
        {
          "output_type": "execute_result",
          "data": {
            "text/plain": [
              "1"
            ]
          },
          "metadata": {
            "tags": []
          },
          "execution_count": 48
        }
      ]
    },
    {
      "cell_type": "markdown",
      "metadata": {
        "id": "tyH-doce-4j5",
        "colab_type": "text"
      },
      "source": [
        "위 결과와 같이 나머지가 1로 출력되므로 **홀수** 라고 할 수 있다."
      ]
    },
    {
      "cell_type": "markdown",
      "metadata": {
        "id": "0VpKj4vm-4j6",
        "colab_type": "text"
      },
      "source": [
        "**Q3. 홍길동 씨의 주민등록번호는 881120-1068234이다. 홍길동 씨의 주민등록번호를 연월일(YYYYMMDD) 부분과 그 뒤의 숫자 부분으로 나누어 출력해 보자.**"
      ]
    },
    {
      "cell_type": "code",
      "metadata": {
        "id": "B5N8yyk3-4j8",
        "colab_type": "code",
        "colab": {},
        "outputId": "837a2a5f-aab8-4bd5-e3fd-2dbd8731d52f"
      },
      "source": [
        "a = \"881120-1068234\"\n",
        "yyyymmdd = a[:6]\n",
        "num = a[7:]\n",
        "print(yyyymmdd)\n",
        "print(num)"
      ],
      "execution_count": 0,
      "outputs": [
        {
          "output_type": "stream",
          "text": [
            "881120\n",
            "1068234\n"
          ],
          "name": "stdout"
        }
      ]
    },
    {
      "cell_type": "markdown",
      "metadata": {
        "id": "AlEl45P3-4kA",
        "colab_type": "text"
      },
      "source": [
        "**Q4. 주민등록번호 뒷자리의 맨 첫 번째 숫자는 성별을 나타낸다. 주민등록번호에서 성별을 나타내는 숫자를 출력해 보자.**"
      ]
    },
    {
      "cell_type": "code",
      "metadata": {
        "id": "VFYlWDsn-4kC",
        "colab_type": "code",
        "colab": {},
        "outputId": "f2a5c114-9cd1-425b-e493-fb23dc557675"
      },
      "source": [
        "pin = \"881120-1068234\"\n",
        "pin[7]"
      ],
      "execution_count": 0,
      "outputs": [
        {
          "output_type": "execute_result",
          "data": {
            "text/plain": [
              "'1'"
            ]
          },
          "metadata": {
            "tags": []
          },
          "execution_count": 50
        }
      ]
    },
    {
      "cell_type": "markdown",
      "metadata": {
        "id": "p-Qc1QOx-4kI",
        "colab_type": "text"
      },
      "source": [
        "**Q5. 다음과 같은 문자열 a:b:c:d가 있다. 문자열의 replace 함수를 사용하여 a#b#c#d로 바꿔서 출력해 보자.**"
      ]
    },
    {
      "cell_type": "code",
      "metadata": {
        "id": "69MpCUoR-4kJ",
        "colab_type": "code",
        "colab": {},
        "outputId": "fe0e2e11-2484-47e8-d780-7782544e0cf5"
      },
      "source": [
        "a = \"a:b:c:d\"\n",
        "b = a.replace(\":\", \"#\")\n",
        "print(b)"
      ],
      "execution_count": 0,
      "outputs": [
        {
          "output_type": "stream",
          "text": [
            "a#b#c#d\n"
          ],
          "name": "stdout"
        }
      ]
    },
    {
      "cell_type": "markdown",
      "metadata": {
        "id": "7it-EYIX-4kP",
        "colab_type": "text"
      },
      "source": [
        "**Q6. [1, 3, 5, 4, 2] 리스트를 [5, 4, 3, 2, 1]로 만들어 보자.**"
      ]
    },
    {
      "cell_type": "code",
      "metadata": {
        "id": "Qv2n6mmp-4kQ",
        "colab_type": "code",
        "colab": {},
        "outputId": "96b8a452-d5d8-41ae-d89d-95f5a3659d61"
      },
      "source": [
        "a = [1,3,5,4,2]\n",
        "a.sort()\n",
        "a.reverse()\n",
        "print(a)"
      ],
      "execution_count": 0,
      "outputs": [
        {
          "output_type": "stream",
          "text": [
            "[5, 4, 3, 2, 1]\n"
          ],
          "name": "stdout"
        }
      ]
    },
    {
      "cell_type": "markdown",
      "metadata": {
        "id": "RnYsi06g-4kY",
        "colab_type": "text"
      },
      "source": [
        "**Q7. ['Life', 'is', 'too', 'short'] 리스트를 Life is too short 문자열로 만들어 출력해 보자.**"
      ]
    },
    {
      "cell_type": "code",
      "metadata": {
        "id": "9OUjOspr-4kZ",
        "colab_type": "code",
        "colab": {},
        "outputId": "146f4878-cd9a-44c0-ca80-5c818ee5f571"
      },
      "source": [
        "a = ['Life', 'is', 'too', 'short']\n",
        "b = \" \".join(a)\n",
        "print(b)"
      ],
      "execution_count": 0,
      "outputs": [
        {
          "output_type": "stream",
          "text": [
            "Life is too short\n"
          ],
          "name": "stdout"
        }
      ]
    },
    {
      "cell_type": "markdown",
      "metadata": {
        "id": "nFxS5uA3-4kd",
        "colab_type": "text"
      },
      "source": [
        "**Q8. (1,2,3) 튜플에 값 4를 추가하여 (1,2,3,4)를 만들어 출력해 보자.**"
      ]
    },
    {
      "cell_type": "code",
      "metadata": {
        "id": "48OJIBKH-4ke",
        "colab_type": "code",
        "colab": {},
        "outputId": "13111de6-31ff-4751-d349-b6c1d3d41568"
      },
      "source": [
        "a = (1, 2, 3)\n",
        "a = a + (4,)\n",
        "print(a)"
      ],
      "execution_count": 0,
      "outputs": [
        {
          "output_type": "stream",
          "text": [
            "(1, 2, 3, 4)\n"
          ],
          "name": "stdout"
        }
      ]
    },
    {
      "cell_type": "markdown",
      "metadata": {
        "id": "vlj2oJra-4kj",
        "colab_type": "text"
      },
      "source": [
        "**Q9. 다음과 같은 딕셔너리 a가 있다.**\n",
        "\n",
        "a = dict()<br>\n",
        "a<br>\n",
        "{}<br>\n",
        "\n",
        "다음 중 오류가 발생하는 경우를 고르고, 그 이유를 설명해 보자.\n",
        "\n",
        "1. a['name'] = 'python'\n",
        "2. a[('a',)] = 'python'\n",
        "3. a[[1]] = 'python'\n",
        "4. a[250] = 'python'\n",
        "--------------------------------------------------------------------------------\n",
        "각각 한번 실행 해 보자."
      ]
    },
    {
      "cell_type": "code",
      "metadata": {
        "id": "owFeifLR-4kk",
        "colab_type": "code",
        "colab": {}
      },
      "source": [
        "a = dict()\n",
        "a\n",
        "\n",
        "a['name'] = 'python'"
      ],
      "execution_count": 0,
      "outputs": []
    },
    {
      "cell_type": "markdown",
      "metadata": {
        "id": "t86hB6Pm-4kp",
        "colab_type": "text"
      },
      "source": [
        "오류가 발생하지 않는다."
      ]
    },
    {
      "cell_type": "code",
      "metadata": {
        "id": "symh9LkB-4kr",
        "colab_type": "code",
        "colab": {}
      },
      "source": [
        "a = dict()\n",
        "a\n",
        "\n",
        "a[('a',)] = 'python'"
      ],
      "execution_count": 0,
      "outputs": []
    },
    {
      "cell_type": "markdown",
      "metadata": {
        "id": "hYaKwPGR-4kw",
        "colab_type": "text"
      },
      "source": [
        "오류가 발생하지 않는다."
      ]
    },
    {
      "cell_type": "code",
      "metadata": {
        "id": "FLMVvJ7V-4kx",
        "colab_type": "code",
        "colab": {},
        "outputId": "935bdd3d-d669-4b78-9e4a-99524df6f2fa"
      },
      "source": [
        "a = dict()\n",
        "a\n",
        "\n",
        "a[[1]] = 'python'"
      ],
      "execution_count": 0,
      "outputs": [
        {
          "output_type": "error",
          "ename": "TypeError",
          "evalue": "unhashable type: 'list'",
          "traceback": [
            "\u001b[1;31m---------------------------------------------------------------------------\u001b[0m",
            "\u001b[1;31mTypeError\u001b[0m                                 Traceback (most recent call last)",
            "\u001b[1;32m<ipython-input-57-e90295fbc01e>\u001b[0m in \u001b[0;36m<module>\u001b[1;34m\u001b[0m\n\u001b[0;32m      2\u001b[0m \u001b[0ma\u001b[0m\u001b[1;33m\u001b[0m\u001b[1;33m\u001b[0m\u001b[0m\n\u001b[0;32m      3\u001b[0m \u001b[1;33m\u001b[0m\u001b[0m\n\u001b[1;32m----> 4\u001b[1;33m \u001b[0ma\u001b[0m\u001b[1;33m[\u001b[0m\u001b[1;33m[\u001b[0m\u001b[1;36m1\u001b[0m\u001b[1;33m]\u001b[0m\u001b[1;33m]\u001b[0m \u001b[1;33m=\u001b[0m \u001b[1;34m'python'\u001b[0m\u001b[1;33m\u001b[0m\u001b[1;33m\u001b[0m\u001b[0m\n\u001b[0m",
            "\u001b[1;31mTypeError\u001b[0m: unhashable type: 'list'"
          ]
        }
      ]
    },
    {
      "cell_type": "markdown",
      "metadata": {
        "id": "0EP-6hq_-4k2",
        "colab_type": "text"
      },
      "source": [
        "오류가 발생한다. 그 이유는 딕셔너리의 키는 변하는 값을 사용할 수 없기 때문이다. 위에서 사용한 [1]은 리스트로써 변하는 값이기 때문에 오류가 나타나는 것이다."
      ]
    },
    {
      "cell_type": "code",
      "metadata": {
        "id": "CVG5VXxT-4k4",
        "colab_type": "code",
        "colab": {}
      },
      "source": [
        "a = dict()\n",
        "a\n",
        "\n",
        "a[250] = 'python'"
      ],
      "execution_count": 0,
      "outputs": []
    },
    {
      "cell_type": "markdown",
      "metadata": {
        "id": "RLOW7smk-4k9",
        "colab_type": "text"
      },
      "source": [
        "오류가 발생하지 않는다."
      ]
    },
    {
      "cell_type": "markdown",
      "metadata": {
        "id": "5jQtJDUd-4k_",
        "colab_type": "text"
      },
      "source": [
        "**Q10. 딕셔너리 a에서 'B'에 해당되는 값을 추출해 보자.**"
      ]
    },
    {
      "cell_type": "code",
      "metadata": {
        "id": "rYZNTsvF-4lA",
        "colab_type": "code",
        "colab": {},
        "outputId": "cc3df3f6-2c31-42f3-874a-55b362d8cb40"
      },
      "source": [
        "a = {'A':90, 'B':80, 'c':70}\n",
        "b = a.pop('B')\n",
        "print(a)\n",
        "print(b)"
      ],
      "execution_count": 0,
      "outputs": [
        {
          "output_type": "stream",
          "text": [
            "{'A': 90, 'c': 70}\n",
            "80\n"
          ],
          "name": "stdout"
        }
      ]
    },
    {
      "cell_type": "markdown",
      "metadata": {
        "id": "8KTVTij7-4lF",
        "colab_type": "text"
      },
      "source": [
        "**Q11. a 리스트에서 중복 숫자를 제거해 보자.**"
      ]
    },
    {
      "cell_type": "code",
      "metadata": {
        "id": "f-oU4Hk7-4lH",
        "colab_type": "code",
        "colab": {},
        "outputId": "715ec517-8750-4835-b569-3ddd3bcbb0be"
      },
      "source": [
        "a = [1, 1, 1, 2, 2, 3, 3, 3, 4, 4, 5]\n",
        "\n",
        "aSet = set(a)\n",
        "b = list(aSet)\n",
        "print(b)"
      ],
      "execution_count": 0,
      "outputs": [
        {
          "output_type": "stream",
          "text": [
            "[1, 2, 3, 4, 5]\n"
          ],
          "name": "stdout"
        }
      ]
    },
    {
      "cell_type": "markdown",
      "metadata": {
        "id": "7gmxOiBp-4lM",
        "colab_type": "text"
      },
      "source": [
        "**리스트 자료형이 집합 자료형으로 변환되면서 중복된 값들은 사라지게 됨.**"
      ]
    },
    {
      "cell_type": "markdown",
      "metadata": {
        "id": "SdrM9spD-4lN",
        "colab_type": "text"
      },
      "source": [
        "**Q12.파이썬은 다음처럼 동일한 값에 여러 개의 변수를 선언할 수 있다. 다음과 같이 a, b 변수를 선언한 후 a의 두 번째 요솟값을 변경하면 b 값은 어떻게 될까? 그리고 이런 결과가 오는 이유에 대해 설명해 보자.**"
      ]
    },
    {
      "cell_type": "code",
      "metadata": {
        "id": "f8oYlFec-4lQ",
        "colab_type": "code",
        "colab": {},
        "outputId": "0a80bab7-0780-4db5-b72a-76e6076c8477"
      },
      "source": [
        "a = b = [1, 2, 3]\n",
        "a[1] = 4\n",
        "print(b)"
      ],
      "execution_count": 0,
      "outputs": [
        {
          "output_type": "stream",
          "text": [
            "[1, 4, 3]\n"
          ],
          "name": "stdout"
        }
      ]
    },
    {
      "cell_type": "markdown",
      "metadata": {
        "id": "bfjpR7_u-4lZ",
        "colab_type": "text"
      },
      "source": [
        "리스트 자료형으로 [1, 4, 3]이 출력된다. 왜냐하면 a 와 b 모두 동일한 [1, 2, 3]의 리스트 객체를 가리키고 있기 때문이다."
      ]
    },
    {
      "cell_type": "markdown",
      "metadata": {
        "id": "S5WAsy5b-4ld",
        "colab_type": "text"
      },
      "source": [
        "# 3장 연습문제\n",
        "\n",
        "**Q1. 다음 코드의 결괏값은 무엇일까?**"
      ]
    },
    {
      "cell_type": "code",
      "metadata": {
        "id": "rras6jCo-4le",
        "colab_type": "code",
        "colab": {},
        "outputId": "6b71ebc3-c420-40ca-f373-8b831b2423c9"
      },
      "source": [
        "a = \"Life is too short, you need python\"\n",
        "\n",
        "if \"wife\" in a:\n",
        "    print(\"wife\")\n",
        "elif \"python\" in a and \"you\" not in a:\n",
        "    print(\"python\")\n",
        "elif \"shirt\" not in a:\n",
        "    print(\"shirt\")\n",
        "elif \"need\" in a:\n",
        "    print(\"need\")\n",
        "else:\n",
        "    print(\"none\")"
      ],
      "execution_count": 0,
      "outputs": [
        {
          "output_type": "stream",
          "text": [
            "shirt\n"
          ],
          "name": "stdout"
        }
      ]
    },
    {
      "cell_type": "markdown",
      "metadata": {
        "id": "3GRoqm-z-4lk",
        "colab_type": "text"
      },
      "source": [
        "3번째 조건과 4번째 조건이 참의 결과를 출력하고, 가장 먼저 참으로 나타난 조건은 3번째 이므로 \"shirt\" 가 출력된다."
      ]
    },
    {
      "cell_type": "markdown",
      "metadata": {
        "id": "IBM-DYUN-4lm",
        "colab_type": "text"
      },
      "source": [
        "**Q2. while문을 사용해 1부터 1000까지의 자연수 중 3의 배수의 합을 구해 보자.**"
      ]
    },
    {
      "cell_type": "code",
      "metadata": {
        "id": "XT21YIm0-4lp",
        "colab_type": "code",
        "colab": {},
        "outputId": "a60130e7-976e-464e-afdc-c529a01cb7f3"
      },
      "source": [
        "result = 0\n",
        "i = 1\n",
        "while i <= 1000:\n",
        "    if i % 3 == 0:\n",
        "        result += i\n",
        "    i += 1\n",
        "    \n",
        "print(result)"
      ],
      "execution_count": 0,
      "outputs": [
        {
          "output_type": "stream",
          "text": [
            "166833\n"
          ],
          "name": "stdout"
        }
      ]
    },
    {
      "cell_type": "markdown",
      "metadata": {
        "id": "hFX7iIVe-4lu",
        "colab_type": "text"
      },
      "source": [
        "3의 배수는 3으로 나누었을 때 나누어 떨어지는(나머지가 0인)수이다. 이를 while문을 이용하여 반복해서 출력값을 구했더니 166833 이 출력되었다."
      ]
    },
    {
      "cell_type": "markdown",
      "metadata": {
        "id": "yCA65M0j-4lv",
        "colab_type": "text"
      },
      "source": [
        "**Q3. while문을 사용하여 다음과 같이 별(*)을 표시하는 프로그램을 작성해 보자.**\n",
        "\n",
        "\\* <br> \\*\\* <br> \\*\\*\\* <br> \\*\\*\\*\\* <br> \\*\\*\\*\\*\\*\n"
      ]
    },
    {
      "cell_type": "code",
      "metadata": {
        "id": "KPjCitud-4lx",
        "colab_type": "code",
        "colab": {},
        "outputId": "0c9e3e40-a37a-47b4-abb2-e5f1ae0c0397"
      },
      "source": [
        "i = 0\n",
        "while True:\n",
        "    i += 1\n",
        "    if i > 5: break\n",
        "    print('*' * i)"
      ],
      "execution_count": 0,
      "outputs": [
        {
          "output_type": "stream",
          "text": [
            "*\n",
            "**\n",
            "***\n",
            "****\n",
            "*****\n"
          ],
          "name": "stdout"
        }
      ]
    },
    {
      "cell_type": "markdown",
      "metadata": {
        "id": "rdBvM_-C-4l3",
        "colab_type": "text"
      },
      "source": [
        "**Q4. for문을 사용해 1부터 100까지의 숫자를 출력해 보자.**"
      ]
    },
    {
      "cell_type": "code",
      "metadata": {
        "id": "f-c4T2EW-4l5",
        "colab_type": "code",
        "colab": {},
        "outputId": "e82f523f-0d38-4b78-d553-0e80a27fd194"
      },
      "source": [
        "for i in range(1, 101):\n",
        "    print(i)"
      ],
      "execution_count": 0,
      "outputs": [
        {
          "output_type": "stream",
          "text": [
            "1\n",
            "2\n",
            "3\n",
            "4\n",
            "5\n",
            "6\n",
            "7\n",
            "8\n",
            "9\n",
            "10\n",
            "11\n",
            "12\n",
            "13\n",
            "14\n",
            "15\n",
            "16\n",
            "17\n",
            "18\n",
            "19\n",
            "20\n",
            "21\n",
            "22\n",
            "23\n",
            "24\n",
            "25\n",
            "26\n",
            "27\n",
            "28\n",
            "29\n",
            "30\n",
            "31\n",
            "32\n",
            "33\n",
            "34\n",
            "35\n",
            "36\n",
            "37\n",
            "38\n",
            "39\n",
            "40\n",
            "41\n",
            "42\n",
            "43\n",
            "44\n",
            "45\n",
            "46\n",
            "47\n",
            "48\n",
            "49\n",
            "50\n",
            "51\n",
            "52\n",
            "53\n",
            "54\n",
            "55\n",
            "56\n",
            "57\n",
            "58\n",
            "59\n",
            "60\n",
            "61\n",
            "62\n",
            "63\n",
            "64\n",
            "65\n",
            "66\n",
            "67\n",
            "68\n",
            "69\n",
            "70\n",
            "71\n",
            "72\n",
            "73\n",
            "74\n",
            "75\n",
            "76\n",
            "77\n",
            "78\n",
            "79\n",
            "80\n",
            "81\n",
            "82\n",
            "83\n",
            "84\n",
            "85\n",
            "86\n",
            "87\n",
            "88\n",
            "89\n",
            "90\n",
            "91\n",
            "92\n",
            "93\n",
            "94\n",
            "95\n",
            "96\n",
            "97\n",
            "98\n",
            "99\n",
            "100\n"
          ],
          "name": "stdout"
        }
      ]
    },
    {
      "cell_type": "markdown",
      "metadata": {
        "id": "PUgiBj-E-4l-",
        "colab_type": "text"
      },
      "source": [
        "**Q5. A 학급에 총 10명의 학생이 있다. 이 학생들의 중간고사 점수는 다음과 같다.**\n",
        "\n",
        "[70, 60, 55, 75, 95, 90, 80, 80, 85, 100]\n",
        "\n",
        "for문을 사용하여 A 학급의 평균 점수를 구해 보자."
      ]
    },
    {
      "cell_type": "code",
      "metadata": {
        "id": "RnRACKB_-4l_",
        "colab_type": "code",
        "colab": {},
        "outputId": "b997f926-b2f5-4d2b-e9cc-222328b4d190"
      },
      "source": [
        "A = [70,60,55,75,95,90,80,80,85,100]\n",
        "total = 0\n",
        "\n",
        "for score in A:\n",
        "    total += score\n",
        "    \n",
        "average = total / len(A)\n",
        "print(average)"
      ],
      "execution_count": 0,
      "outputs": [
        {
          "output_type": "stream",
          "text": [
            "79.0\n"
          ],
          "name": "stdout"
        }
      ]
    },
    {
      "cell_type": "markdown",
      "metadata": {
        "id": "RJQa5OIA-4mD",
        "colab_type": "text"
      },
      "source": [
        "**Q6. 리스트 중에서 홀수에만 2를 곱하여 저장하는 다음 코드가 있다.**\n",
        "\n",
        "numbers = [1, 2, 3, 4, 5]\n",
        "result = []\n",
        "for n in numbers:\n",
        "    if n % 2 == 1:\n",
        "        result.append(n*2)\n",
        "        \n",
        "위 코드를 리스트 내포(list comprehension)를 사용하여 표현해 보자."
      ]
    },
    {
      "cell_type": "code",
      "metadata": {
        "id": "5gxuvBC0-4mF",
        "colab_type": "code",
        "colab": {},
        "outputId": "ee8fdedd-42d9-48a7-cc1c-334e1865eefa"
      },
      "source": [
        "numbers = [1,2,3,4,5]\n",
        "result = [n*2 for n in numbers if n%2==1]\n",
        "print(result)"
      ],
      "execution_count": 0,
      "outputs": [
        {
          "output_type": "stream",
          "text": [
            "[2, 6, 10]\n"
          ],
          "name": "stdout"
        }
      ]
    },
    {
      "cell_type": "code",
      "metadata": {
        "id": "OfMxKMms-4mK",
        "colab_type": "code",
        "colab": {}
      },
      "source": [
        ""
      ],
      "execution_count": 0,
      "outputs": []
    }
  ]
}