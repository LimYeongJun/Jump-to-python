{
  "nbformat": 4,
  "nbformat_minor": 0,
  "metadata": {
    "colab": {
      "name": "ch05_exercise.ipynb",
      "provenance": [],
      "collapsed_sections": [],
      "toc_visible": true,
      "include_colab_link": true
    },
    "kernelspec": {
      "name": "python3",
      "display_name": "Python 3"
    }
  },
  "cells": [
    {
      "cell_type": "markdown",
      "metadata": {
        "id": "view-in-github",
        "colab_type": "text"
      },
      "source": [
        "<a href=\"https://colab.research.google.com/github/LimYeongJun/Jump-to-python/blob/master/ch05_exercise.ipynb\" target=\"_parent\"><img src=\"https://colab.research.google.com/assets/colab-badge.svg\" alt=\"Open In Colab\"/></a>"
      ]
    },
    {
      "cell_type": "markdown",
      "metadata": {
        "id": "a4I2UblqxbQt",
        "colab_type": "text"
      },
      "source": [
        "### 1. 다음은 Calculator 클래스이다."
      ]
    },
    {
      "cell_type": "code",
      "metadata": {
        "id": "Gzh3eH5Mx5Oz",
        "colab_type": "code",
        "colab": {}
      },
      "source": [
        "class Calculator:\n",
        "    def __init__(self):\n",
        "        self.value = 0\n",
        "\n",
        "    def add(self, val):\n",
        "        self.value += val"
      ],
      "execution_count": 0,
      "outputs": []
    },
    {
      "cell_type": "markdown",
      "metadata": {
        "id": "8B-IeFgpyF3k",
        "colab_type": "text"
      },
      "source": [
        "위 클래스를 상속하는 UpgradeCalculator를 만들고 값을 뺄 수 있는 minus 메서드를 추가해 보자. 즉 다음과 같이 동작하는 클래스를 만들어야 한다."
      ]
    },
    {
      "cell_type": "code",
      "metadata": {
        "id": "OnwWF7FvyPca",
        "colab_type": "code",
        "colab": {}
      },
      "source": [
        "cal = UpgradeCalculator()\n",
        "cal.add(10)\n",
        "cal.minus(7)\n",
        "\n",
        "print(cal.value) # 10에서 7을 뺀 3을 출력"
      ],
      "execution_count": 0,
      "outputs": []
    },
    {
      "cell_type": "markdown",
      "metadata": {
        "id": "Mt2H3pnDyfqy",
        "colab_type": "text"
      },
      "source": [
        "아래와 같이 Calculator 클래스를 상속하는 다른 클래스를 만들고 minus 메서드를 추가하면 된다."
      ]
    },
    {
      "cell_type": "code",
      "metadata": {
        "id": "hjQtR1htyX_u",
        "colab_type": "code",
        "colab": {}
      },
      "source": [
        "class UpgradeCalculator(Calculator):\n",
        "    def minus(self, val):\n",
        "        self.value -= val"
      ],
      "execution_count": 0,
      "outputs": []
    },
    {
      "cell_type": "markdown",
      "metadata": {
        "id": "QKJcTzJ0yvE1",
        "colab_type": "text"
      },
      "source": [
        "### 2. 객체변수 value가 100 이상의 값은 가질 수 없도록 제한하는 MaxLimitCalculator 클래스를 만들어 보자. 즉 다음과 같이 동작해야 한다."
      ]
    },
    {
      "cell_type": "code",
      "metadata": {
        "id": "u8u-pyhHy0ys",
        "colab_type": "code",
        "colab": {}
      },
      "source": [
        "cal = MaxLimitCalculator()\n",
        "cal.add(50) # 50 더하기\n",
        "cal.add(60) # 60 더하기\n",
        "\n",
        "print(cal.value) # 100 출력"
      ],
      "execution_count": 0,
      "outputs": []
    },
    {
      "cell_type": "markdown",
      "metadata": {
        "id": "44m5uVc2y3EO",
        "colab_type": "text"
      },
      "source": [
        "단 반드시 다음과 같은 Calculator 클래스를 상속해서 만들어야 한다."
      ]
    },
    {
      "cell_type": "code",
      "metadata": {
        "id": "k41Ih76vy6DB",
        "colab_type": "code",
        "colab": {}
      },
      "source": [
        "class Calculator:\n",
        "    def __init__(self):\n",
        "        self.value = 0\n",
        "\n",
        "    def add(self, val):\n",
        "        self.value += val"
      ],
      "execution_count": 0,
      "outputs": []
    },
    {
      "cell_type": "markdown",
      "metadata": {
        "id": "_sZS6xbMzA9a",
        "colab_type": "text"
      },
      "source": [
        "Calculator class를 상속하고 add 메서드를 오버라이딩하여 다음과 같은 클래스를 만든다."
      ]
    },
    {
      "cell_type": "code",
      "metadata": {
        "id": "bqqL5q7CzHPV",
        "colab_type": "code",
        "colab": {}
      },
      "source": [
        "class MaxLimitCalculator(Calculator):\n",
        "    def add(self, val):\n",
        "        self.value += val\n",
        "        if self.value > 100:\n",
        "            self.value = 100"
      ],
      "execution_count": 0,
      "outputs": []
    },
    {
      "cell_type": "markdown",
      "metadata": {
        "id": "xu0BmYPIzMdw",
        "colab_type": "text"
      },
      "source": [
        "### 3. 다음 결과를 예측해보자."
      ]
    },
    {
      "cell_type": "code",
      "metadata": {
        "id": "dLrtTy__zREU",
        "colab_type": "code",
        "outputId": "72130f34-b050-4565-a2f0-9a152b12dab7",
        "colab": {
          "base_uri": "https://localhost:8080/",
          "height": 35
        }
      },
      "source": [
        "all([1, 2, abs(-3)-3])"
      ],
      "execution_count": 0,
      "outputs": [
        {
          "output_type": "execute_result",
          "data": {
            "text/plain": [
              "False"
            ]
          },
          "metadata": {
            "tags": []
          },
          "execution_count": 1
        }
      ]
    },
    {
      "cell_type": "markdown",
      "metadata": {
        "id": "v6lbEMpdzb5q",
        "colab_type": "text"
      },
      "source": [
        "abs(-3)은 절대값이므로 3이 되기 때문에 all([1,2,0])이 되고, 리스트의 요솟값중 0이 있기 떄문에 all 내장함수의 결과는 False가 됨."
      ]
    },
    {
      "cell_type": "code",
      "metadata": {
        "id": "UYHr3Jj-zW1i",
        "colab_type": "code",
        "outputId": "b026f4ea-80cb-498f-a69d-f2ea8329fc7d",
        "colab": {
          "base_uri": "https://localhost:8080/",
          "height": 35
        }
      },
      "source": [
        "chr(ord('a')) == 'a'"
      ],
      "execution_count": 0,
      "outputs": [
        {
          "output_type": "execute_result",
          "data": {
            "text/plain": [
              "True"
            ]
          },
          "metadata": {
            "tags": []
          },
          "execution_count": 2
        }
      ]
    },
    {
      "cell_type": "markdown",
      "metadata": {
        "id": "C8xRvVYvzpIm",
        "colab_type": "text"
      },
      "source": [
        "ord('a')는 97이 되고 chr(97)은 'a' 이므로 'a' == 'a'이기 떄문에 True를 반환한다."
      ]
    },
    {
      "cell_type": "markdown",
      "metadata": {
        "id": "SEd43DZez3Tr",
        "colab_type": "text"
      },
      "source": [
        "### 4. filter와 lambda를 사용하여 리스트 [1, -2, 3, -5, 8, -3]에서 음수를 모두 제거해 보자."
      ]
    },
    {
      "cell_type": "code",
      "metadata": {
        "id": "T6NbCPC7z6U0",
        "colab_type": "code",
        "outputId": "526172f7-c5c7-43e4-b1d4-dbeab1543c44",
        "colab": {
          "base_uri": "https://localhost:8080/",
          "height": 35
        }
      },
      "source": [
        "list(filter(lambda x:x>0, [1, -2, 3, -5, 8, -3]))"
      ],
      "execution_count": 0,
      "outputs": [
        {
          "output_type": "execute_result",
          "data": {
            "text/plain": [
              "[1, 3, 8]"
            ]
          },
          "metadata": {
            "tags": []
          },
          "execution_count": 3
        }
      ]
    },
    {
      "cell_type": "markdown",
      "metadata": {
        "id": "BXFxHKMP7tqF",
        "colab_type": "text"
      },
      "source": [
        "### 5. 234라는 10진수의 16진수는 다음과 같이 구할 수 있다."
      ]
    },
    {
      "cell_type": "code",
      "metadata": {
        "id": "dEmlJUsb73p7",
        "colab_type": "code",
        "outputId": "5b6530a6-7d9d-4f39-f64c-92311964a336",
        "colab": {
          "base_uri": "https://localhost:8080/",
          "height": 35
        }
      },
      "source": [
        "hex(234)"
      ],
      "execution_count": 0,
      "outputs": [
        {
          "output_type": "execute_result",
          "data": {
            "text/plain": [
              "'0xea'"
            ]
          },
          "metadata": {
            "tags": []
          },
          "execution_count": 4
        }
      ]
    },
    {
      "cell_type": "markdown",
      "metadata": {
        "id": "xH0eYebY7-OY",
        "colab_type": "text"
      },
      "source": [
        "이번에는 반대로 16진수 문자열 0xea를 10진수로 변경해 보자."
      ]
    },
    {
      "cell_type": "code",
      "metadata": {
        "id": "IjogBkT18EZO",
        "colab_type": "code",
        "outputId": "10c4952b-e815-40e7-f727-e46bf9eb34a3",
        "colab": {
          "base_uri": "https://localhost:8080/",
          "height": 35
        }
      },
      "source": [
        "int('0xea', 16)"
      ],
      "execution_count": 0,
      "outputs": [
        {
          "output_type": "execute_result",
          "data": {
            "text/plain": [
              "234"
            ]
          },
          "metadata": {
            "tags": []
          },
          "execution_count": 5
        }
      ]
    },
    {
      "cell_type": "markdown",
      "metadata": {
        "id": "bRgBUsKr8Muc",
        "colab_type": "text"
      },
      "source": [
        "### 6. map과 lambda를 사용하여 [1,2,3,4] 리스트의 각 요솟값에 3이 곱해진 리ㅡ트[3,6,9,12]를 만들어 보자."
      ]
    },
    {
      "cell_type": "code",
      "metadata": {
        "id": "Qe_KvJwl8ZpT",
        "colab_type": "code",
        "outputId": "3f3c73fe-43c1-46cd-aa1e-aab101b7aeed",
        "colab": {
          "base_uri": "https://localhost:8080/",
          "height": 35
        }
      },
      "source": [
        "list(map(lambda x:x*3, [1,2,3,4]))"
      ],
      "execution_count": 0,
      "outputs": [
        {
          "output_type": "execute_result",
          "data": {
            "text/plain": [
              "[3, 6, 9, 12]"
            ]
          },
          "metadata": {
            "tags": []
          },
          "execution_count": 6
        }
      ]
    },
    {
      "cell_type": "markdown",
      "metadata": {
        "id": "GojvKZi08fr2",
        "colab_type": "text"
      },
      "source": [
        "### 7. 다음 리스트의 최댓값과 최솟값의 합을 구해보자.<br>\n",
        "[-8,2,7,5,-3,5,0,1]"
      ]
    },
    {
      "cell_type": "code",
      "metadata": {
        "id": "kbkrBE4z8oUn",
        "colab_type": "code",
        "outputId": "83927a2b-53af-47e1-dc05-8daffe97d7bf",
        "colab": {
          "base_uri": "https://localhost:8080/",
          "height": 35
        }
      },
      "source": [
        "a = [-8, 2, 7, 5, -3, 5, 0, 1]\n",
        "max(a) + min(a)"
      ],
      "execution_count": 0,
      "outputs": [
        {
          "output_type": "execute_result",
          "data": {
            "text/plain": [
              "-1"
            ]
          },
          "metadata": {
            "tags": []
          },
          "execution_count": 7
        }
      ]
    },
    {
      "cell_type": "markdown",
      "metadata": {
        "id": "K_ZQvY238vR-",
        "colab_type": "text"
      },
      "source": [
        "### 8.17 / 3 의 결과는 다음과 같다"
      ]
    },
    {
      "cell_type": "code",
      "metadata": {
        "id": "LOaQ0Enk8yma",
        "colab_type": "code",
        "outputId": "729ed4da-86e0-4548-e2bd-42766c008059",
        "colab": {
          "base_uri": "https://localhost:8080/",
          "height": 35
        }
      },
      "source": [
        "17 / 3"
      ],
      "execution_count": 0,
      "outputs": [
        {
          "output_type": "execute_result",
          "data": {
            "text/plain": [
              "5.666666666666667"
            ]
          },
          "metadata": {
            "tags": []
          },
          "execution_count": 8
        }
      ]
    },
    {
      "cell_type": "markdown",
      "metadata": {
        "id": "lDikCqR682sx",
        "colab_type": "text"
      },
      "source": [
        "위와 같은 결과값을 소숫점 4자리까지만 반올림하여 표시해보자."
      ]
    },
    {
      "cell_type": "code",
      "metadata": {
        "id": "pLYeqwcG85nM",
        "colab_type": "code",
        "outputId": "377e8ebd-03a6-4291-fbd1-841333237871",
        "colab": {
          "base_uri": "https://localhost:8080/",
          "height": 35
        }
      },
      "source": [
        "round(17/3 , 4)"
      ],
      "execution_count": 0,
      "outputs": [
        {
          "output_type": "execute_result",
          "data": {
            "text/plain": [
              "5.6667"
            ]
          },
          "metadata": {
            "tags": []
          },
          "execution_count": 9
        }
      ]
    },
    {
      "cell_type": "markdown",
      "metadata": {
        "id": "azaLaZDt8-vv",
        "colab_type": "text"
      },
      "source": [
        "### 9. 다음과 같이 실행할 때 입력값을 모두 더하여 출력하는 스크립트(C:\\doit\\myargv.py)를 작성해 보자."
      ]
    },
    {
      "cell_type": "code",
      "metadata": {
        "id": "SIV2zyL7cAEa",
        "colab_type": "code",
        "colab": {}
      },
      "source": [
        "import os\n",
        "\n",
        "A = \"./doit/\"\n",
        "\n",
        "if not os.path.exists(A):\n",
        "  os.mkdir(A)"
      ],
      "execution_count": 0,
      "outputs": []
    },
    {
      "cell_type": "code",
      "metadata": {
        "id": "Y3WnmLiocIcR",
        "colab_type": "code",
        "colab": {
          "base_uri": "https://localhost:8080/",
          "height": 35
        },
        "outputId": "58dddaed-edd8-4251-ef76-fb3097699923"
      },
      "source": [
        "%%writefile doit/myargv.py\n",
        "\n",
        "def myargv_test():\n",
        "  print(myargv)"
      ],
      "execution_count": 22,
      "outputs": [
        {
          "output_type": "stream",
          "text": [
            "Overwriting doit/myargv.py\n"
          ],
          "name": "stdout"
        }
      ]
    },
    {
      "cell_type": "code",
      "metadata": {
        "id": "-1NAaXrudTyb",
        "colab_type": "code",
        "colab": {
          "base_uri": "https://localhost:8080/",
          "height": 35
        },
        "outputId": "7cf46820-372d-4e50-b8fa-2ab717f23780"
      },
      "source": [
        "import sys\n",
        "print(sys.argv)"
      ],
      "execution_count": 23,
      "outputs": [
        {
          "output_type": "stream",
          "text": [
            "['/usr/local/lib/python3.6/dist-packages/ipykernel_launcher.py', '-f', '/root/.local/share/jupyter/runtime/kernel-0de49723-97ef-4c37-87bc-2e87e91a04c6.json']\n"
          ],
          "name": "stdout"
        }
      ]
    },
    {
      "cell_type": "code",
      "metadata": {
        "id": "Nn-FNfat6qz5",
        "colab_type": "code",
        "outputId": "7edc1efe-2325-421b-ddda-4d0498317d46",
        "colab": {
          "base_uri": "https://localhost:8080/",
          "height": 35
        }
      },
      "source": [
        "myargv=sys.argv\n",
        "sys.argv=[myargv,1,2,3,4,5,6,7,8,9,10]\n",
        "import sys\n",
        "\n",
        "numbers = sys.argv[1:]\n",
        "result = 0\n",
        "for number in numbers:\n",
        "    result += int(number)\n",
        "print(result)"
      ],
      "execution_count": 26,
      "outputs": [
        {
          "output_type": "stream",
          "text": [
            "55\n"
          ],
          "name": "stdout"
        }
      ]
    },
    {
      "cell_type": "markdown",
      "metadata": {
        "id": "-dymSODT-dfl",
        "colab_type": "text"
      },
      "source": [
        "### 10. os 모듈을 사용하여 다음과 같이 동작하도록 코드를 작성해 보자.<br>1. C:/doit 디렉터리로 이동한다<br>2. dir명령을 실행하고 그 결과를 변수에 담는다.<br>3. dir 명령의 결과를 출력한다."
      ]
    },
    {
      "cell_type": "code",
      "metadata": {
        "id": "2gdDMZGzBhs6",
        "colab_type": "code",
        "colab": {}
      },
      "source": [
        "import os\n",
        "\n",
        "def createFolder(directory):\n",
        "  try:\n",
        "    if not os.path.exists(directory):\n",
        "      os.makedirs(directory)\n",
        "  except OSError:\n",
        "    print('Error: Creating directory' + directory)\n",
        "    \n",
        "createFolder('C:/doit')\n",
        "\n",
        "os.chdir(\"C:/doit\")"
      ],
      "execution_count": 0,
      "outputs": []
    },
    {
      "cell_type": "code",
      "metadata": {
        "id": "l-1WOzZf4Auo",
        "colab_type": "code",
        "colab": {}
      },
      "source": [
        "result = os.popen(\"dir\")"
      ],
      "execution_count": 0,
      "outputs": []
    },
    {
      "cell_type": "code",
      "metadata": {
        "id": "a1mKzcw84Tem",
        "colab_type": "code",
        "outputId": "7ef56893-206a-473d-e4cc-88868155e984",
        "colab": {
          "base_uri": "https://localhost:8080/",
          "height": 35
        }
      },
      "source": [
        "print(result.read())"
      ],
      "execution_count": 0,
      "outputs": [
        {
          "output_type": "stream",
          "text": [
            "\n"
          ],
          "name": "stdout"
        }
      ]
    },
    {
      "cell_type": "markdown",
      "metadata": {
        "id": "3oT8G8Ae450k",
        "colab_type": "text"
      },
      "source": [
        "### 11. glob 모듈을 사용하여 C:\\doit 디렉터리의 파일 중 확장자가 .py인 파일만 출력하는 프로그램을 작성해 보자.\n",
        "\n"
      ]
    },
    {
      "cell_type": "code",
      "metadata": {
        "id": "q4si6oxm5Gg8",
        "colab_type": "code",
        "outputId": "a39f7e73-bf7b-4323-a450-efdc61ba4cdb",
        "colab": {
          "base_uri": "https://localhost:8080/",
          "height": 35
        }
      },
      "source": [
        "import glob\n",
        "glob.glob(\"c:/doit/*.py\")"
      ],
      "execution_count": 0,
      "outputs": [
        {
          "output_type": "execute_result",
          "data": {
            "text/plain": [
              "[]"
            ]
          },
          "metadata": {
            "tags": []
          },
          "execution_count": 17
        }
      ]
    },
    {
      "cell_type": "markdown",
      "metadata": {
        "id": "wWj5V7qo6KH8",
        "colab_type": "text"
      },
      "source": [
        "### 12. time 모듈을 사용하여 현재 날짜와 시간을 다음과 같은 형식으로 출력해 보자.\n",
        "<br>2018/04/03 17:20:32"
      ]
    },
    {
      "cell_type": "code",
      "metadata": {
        "id": "E4JDkHci54ur",
        "colab_type": "code",
        "outputId": "d33ceca3-fd30-4690-9978-aacf8aba9557",
        "colab": {
          "base_uri": "https://localhost:8080/",
          "height": 35
        }
      },
      "source": [
        "import time\n",
        "time.strftime(\"%Y/%m/%d %H:%M:%S\")"
      ],
      "execution_count": 0,
      "outputs": [
        {
          "output_type": "execute_result",
          "data": {
            "text/plain": [
              "'2019/10/09 14:25:52'"
            ]
          },
          "metadata": {
            "tags": []
          },
          "execution_count": 18
        }
      ]
    },
    {
      "cell_type": "markdown",
      "metadata": {
        "id": "8DEuZK2O6ZBD",
        "colab_type": "text"
      },
      "source": [
        "### 13. random 모듈을 사용하여 로또 번호(1~45 사이의 숫자 6개)를 생성해 보자(단 중복된 숫자가 있으면 안 됨)."
      ]
    },
    {
      "cell_type": "code",
      "metadata": {
        "id": "z4BDoROS6XWd",
        "colab_type": "code",
        "outputId": "500e6cd1-1f65-453e-eb54-24182127ff87",
        "colab": {
          "base_uri": "https://localhost:8080/",
          "height": 35
        }
      },
      "source": [
        "import random\n",
        "\n",
        "result = []\n",
        "while len(result) < 6:\n",
        "    num = random.randint(1, 45)\n",
        "    if num not in result:\n",
        "        result.append(num)\n",
        "\n",
        "print(result)"
      ],
      "execution_count": 0,
      "outputs": [
        {
          "output_type": "stream",
          "text": [
            "[34, 2, 20, 22, 44, 27]\n"
          ],
          "name": "stdout"
        }
      ]
    },
    {
      "cell_type": "code",
      "metadata": {
        "id": "l7vbKFpC6fZF",
        "colab_type": "code",
        "colab": {}
      },
      "source": [
        ""
      ],
      "execution_count": 0,
      "outputs": []
    }
  ]
}