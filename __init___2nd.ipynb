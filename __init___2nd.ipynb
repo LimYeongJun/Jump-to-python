{
  "nbformat": 4,
  "nbformat_minor": 0,
  "metadata": {
    "colab": {
      "name": "__init__ 2nd",
      "provenance": [],
      "collapsed_sections": [],
      "include_colab_link": true
    },
    "kernelspec": {
      "name": "python3",
      "display_name": "Python 3"
    }
  },
  "cells": [
    {
      "cell_type": "markdown",
      "metadata": {
        "id": "view-in-github",
        "colab_type": "text"
      },
      "source": [
        "<a href=\"https://colab.research.google.com/github/LimYeongJun/Jump-to-python/blob/master/__init___2nd.ipynb\" target=\"_parent\"><img src=\"https://colab.research.google.com/assets/colab-badge.svg\" alt=\"Open In Colab\"/></a>"
      ]
    },
    {
      "cell_type": "markdown",
      "metadata": {
        "id": "MDSN_G8NZcAa",
        "colab_type": "text"
      },
      "source": [
        "# * *__*init*__*.py의 용도"
      ]
    },
    {
      "cell_type": "markdown",
      "metadata": {
        "id": "9580G7rZZlN3",
        "colab_type": "text"
      },
      "source": [
        "## 파이썬에서 module은 하나의 .py 파일을 가리키며,<br> 패키지는 이러한 모듈들을 모은 컬렉션을 가리킨다.<br> 파이썬의 패키지는 하나의 디렉토리에 놓여진 **모듈들의 집합**을 가리키는데,<br> 그 디렉토리에는 일반적으로 *__*init*__*.py 라는 패키지 초기화 파일이 존재한다. <br>하지만 python 3.3 버전 이후부터는 *__*init*__*.py 파일이 없어도 패키지로 <br>인식이 가능하다.<br> **하지만 하위버전과의 호환성을 위해 항상 써주는 것이 좋다.**"
      ]
    },
    {
      "cell_type": "code",
      "metadata": {
        "id": "PZAP7-EILLNH",
        "colab_type": "code",
        "colab": {}
      },
      "source": [
        "import os\n",
        "\n",
        "A = \"./game\"\n",
        "\n",
        "if not os.path.exists(A):\n",
        "  os.mkdir(A)"
      ],
      "execution_count": 0,
      "outputs": []
    },
    {
      "cell_type": "code",
      "metadata": {
        "id": "Kh_DtftjLhtO",
        "colab_type": "code",
        "colab": {}
      },
      "source": [
        "import os\n",
        "\n",
        "A = \"./game/sound\"\n",
        "\n",
        "if not os.path.exists(A):\n",
        "  os.mkdir(A)"
      ],
      "execution_count": 0,
      "outputs": []
    },
    {
      "cell_type": "code",
      "metadata": {
        "id": "aVX_Hgh7LoOS",
        "colab_type": "code",
        "colab": {}
      },
      "source": [
        "import os\n",
        "\n",
        "A = \"./game/graphic\"\n",
        "\n",
        "if not os.path.exists(A):\n",
        "  os.mkdir(A)"
      ],
      "execution_count": 0,
      "outputs": []
    },
    {
      "cell_type": "markdown",
      "metadata": {
        "id": "H2c9AiYXZ7Vs",
        "colab_type": "text"
      },
      "source": [
        "## 먼저 디렉토리를 생성한다. 디렉토리를 생성하는 python code는 이와 같으며, content 밑에 game 패키지를 만들고, game 패키지 밑에 sound와 graphic 패키지를 만들었다."
      ]
    },
    {
      "cell_type": "code",
      "metadata": {
        "id": "pIToRt42LsWE",
        "colab_type": "code",
        "outputId": "ac16ddbc-b87c-4066-c07b-e19460217d44",
        "colab": {
          "base_uri": "https://localhost:8080/",
          "height": 35
        }
      },
      "source": [
        "%%writefile game/__init__.py\n",
        "\n",
        "def __init___test():\n",
        "  print(\"__init__\")\n",
        "  \n"
      ],
      "execution_count": 113,
      "outputs": [
        {
          "output_type": "stream",
          "text": [
            "Overwriting game/__init__.py\n"
          ],
          "name": "stdout"
        }
      ]
    },
    {
      "cell_type": "code",
      "metadata": {
        "id": "f-FyXwGlMBVW",
        "colab_type": "code",
        "outputId": "597d8f22-6c4f-4a85-81e8-3a91fff24182",
        "colab": {
          "base_uri": "https://localhost:8080/",
          "height": 35
        }
      },
      "source": [
        "%%writefile game/sound/echo.py\n",
        "\n",
        "def echo_test():\n",
        "  print(\"echo\")"
      ],
      "execution_count": 114,
      "outputs": [
        {
          "output_type": "stream",
          "text": [
            "Overwriting game/sound/echo.py\n"
          ],
          "name": "stdout"
        }
      ]
    },
    {
      "cell_type": "code",
      "metadata": {
        "id": "Og1NWNNAMMUy",
        "colab_type": "code",
        "outputId": "f5940a27-2fbb-47ce-beae-430dd4270f7e",
        "colab": {
          "base_uri": "https://localhost:8080/",
          "height": 35
        }
      },
      "source": [
        "%%writefile game/sound/__init__.py\n",
        "\n",
        "def __init___test():\n",
        "  print(\"__init__\")\n",
        "\n"
      ],
      "execution_count": 115,
      "outputs": [
        {
          "output_type": "stream",
          "text": [
            "Overwriting game/sound/__init__.py\n"
          ],
          "name": "stdout"
        }
      ]
    },
    {
      "cell_type": "code",
      "metadata": {
        "id": "HdBogyUVN9nP",
        "colab_type": "code",
        "outputId": "11fa73be-0fa6-4c93-9bbc-a94005948720",
        "colab": {
          "base_uri": "https://localhost:8080/",
          "height": 35
        }
      },
      "source": [
        "%%writefile game/graphic/__init__.py\n",
        "\n",
        "def __init___test():\n",
        "  print(\"__init__\")\n",
        "\n"
      ],
      "execution_count": 116,
      "outputs": [
        {
          "output_type": "stream",
          "text": [
            "Overwriting game/graphic/__init__.py\n"
          ],
          "name": "stdout"
        }
      ]
    },
    {
      "cell_type": "code",
      "metadata": {
        "id": "Ak7R1QG-MVsc",
        "colab_type": "code",
        "outputId": "4d47e11f-d21e-4227-da30-872c3ac0af6e",
        "colab": {
          "base_uri": "https://localhost:8080/",
          "height": 35
        }
      },
      "source": [
        "%%writefile game/sound/wav.py\n",
        "\n",
        "def wav_test():\n",
        "  print(\"wav\")"
      ],
      "execution_count": 117,
      "outputs": [
        {
          "output_type": "stream",
          "text": [
            "Overwriting game/sound/wav.py\n"
          ],
          "name": "stdout"
        }
      ]
    },
    {
      "cell_type": "code",
      "metadata": {
        "id": "0_jhp_bnMZot",
        "colab_type": "code",
        "outputId": "6881239f-aaa4-4cc4-a878-dcb620e220c8",
        "colab": {
          "base_uri": "https://localhost:8080/",
          "height": 35
        }
      },
      "source": [
        "%%writefile game/graphic/render.py\n",
        "\n",
        "def render_test():\n",
        "  print(\"render\")"
      ],
      "execution_count": 118,
      "outputs": [
        {
          "output_type": "stream",
          "text": [
            "Overwriting game/graphic/render.py\n"
          ],
          "name": "stdout"
        }
      ]
    },
    {
      "cell_type": "markdown",
      "metadata": {
        "id": "ibK-21rbaWzX",
        "colab_type": "text"
      },
      "source": [
        "## 이는 패키지 밑에 모듈을 만드는 과정이다. magic key를 이용해서 모듈을 생성하였다."
      ]
    },
    {
      "cell_type": "code",
      "metadata": {
        "id": "c_jhe9DQMg58",
        "colab_type": "code",
        "colab": {}
      },
      "source": [
        "from game.sound import *"
      ],
      "execution_count": 0,
      "outputs": []
    },
    {
      "cell_type": "code",
      "metadata": {
        "id": "L1AbMuWWNvec",
        "colab_type": "code",
        "colab": {}
      },
      "source": [
        "__all__ = ['echo']"
      ],
      "execution_count": 0,
      "outputs": []
    },
    {
      "cell_type": "code",
      "metadata": {
        "id": "Pe339uTrTpyP",
        "colab_type": "code",
        "outputId": "01fffd5c-a532-46bb-c349-fcf816a6505c",
        "colab": {
          "base_uri": "https://localhost:8080/",
          "height": 35
        }
      },
      "source": [
        "echo"
      ],
      "execution_count": 121,
      "outputs": [
        {
          "output_type": "execute_result",
          "data": {
            "text/plain": [
              "<module 'game.sound.echo' from '/content/game/sound/echo.py'>"
            ]
          },
          "metadata": {
            "tags": []
          },
          "execution_count": 121
        }
      ]
    },
    {
      "cell_type": "code",
      "metadata": {
        "id": "YvRL51FxTyCy",
        "colab_type": "code",
        "outputId": "7d64395e-beab-4198-8292-fe266c253728",
        "colab": {
          "base_uri": "https://localhost:8080/",
          "height": 35
        }
      },
      "source": [
        "echo.echo_test()"
      ],
      "execution_count": 122,
      "outputs": [
        {
          "output_type": "stream",
          "text": [
            "echo\n"
          ],
          "name": "stdout"
        }
      ]
    },
    {
      "cell_type": "code",
      "metadata": {
        "id": "zX0c5nsiT16A",
        "colab_type": "code",
        "outputId": "b8f62a5f-c280-47f4-862c-09d590f446a7",
        "colab": {
          "base_uri": "https://localhost:8080/",
          "height": 35
        }
      },
      "source": [
        "from game.sound import *\n",
        "echo.echo_test()"
      ],
      "execution_count": 123,
      "outputs": [
        {
          "output_type": "stream",
          "text": [
            "echo\n"
          ],
          "name": "stdout"
        }
      ]
    },
    {
      "cell_type": "markdown",
      "metadata": {
        "id": "KnBecOFpfuqF",
        "colab_type": "text"
      },
      "source": [
        "## 특정 디렉터리의 모듈을 이용하여 import할 때에는 다음과 같이 해당 디렉터리의 __init__.py 파일에  *__*all*__*이라는 변수를 설정하고 import할 수 있는 모듈을 정의해 주어야 한다.<br> *__*all*__*로 정의하지 않으면 인식이 되지 않기 때문이다."
      ]
    },
    {
      "cell_type": "markdown",
      "metadata": {
        "id": "5y3pMXtPi5wK",
        "colab_type": "text"
      },
      "source": [
        "## 패키지의 __init__.py에서 from .모듈 import * 로 모든 변수, 함수, 클래스를 가져오면 패키지 외부에 공개하고 싶지 않은 것까지 공개하게 됩니다. 이때는 __all__에 공개할 모듈, 변수, 함수, 클래스를 리스트 형태로 지정해주면 됩니다. __all__이라는 이름 그대로 모든 것(*)을 가져갈 때의 목록을 정합니다. 예를 들어 echo.py에서 from game.sound import *로 패키지의 모든 변수, 함수, 클래스를 가져온다 하더라도 __all__에 지정된 acho 함수만 사용할 수 있다."
      ]
    },
    {
      "cell_type": "code",
      "metadata": {
        "id": "_qrmcm8oUXkM",
        "colab_type": "code",
        "colab": {}
      },
      "source": [
        ""
      ],
      "execution_count": 0,
      "outputs": []
    }
  ]
}