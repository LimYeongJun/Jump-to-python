{
  "nbformat": 4,
  "nbformat_minor": 0,
  "metadata": {
    "colab": {
      "name": "Untitled42.ipynb",
      "provenance": [],
      "include_colab_link": true
    },
    "kernelspec": {
      "name": "python3",
      "display_name": "Python 3"
    }
  },
  "cells": [
    {
      "cell_type": "markdown",
      "metadata": {
        "id": "view-in-github",
        "colab_type": "text"
      },
      "source": [
        "<a href=\"https://colab.research.google.com/github/LimYeongJun/Jump-to-python/blob/master/smiles.ipynb\" target=\"_parent\"><img src=\"https://colab.research.google.com/assets/colab-badge.svg\" alt=\"Open In Colab\"/></a>"
      ]
    },
    {
      "cell_type": "code",
      "metadata": {
        "id": "DZgY2xfAsLeA",
        "colab_type": "code",
        "colab": {
          "base_uri": "https://localhost:8080/",
          "height": 1000
        },
        "outputId": "6c8eef6c-dc6d-4fae-f085-9cdb42c65f40"
      },
      "source": [
        "!wget -c https://repo.continuum.io/miniconda/Miniconda3-latest-Linux-x86_64.sh\n",
        "!chmod +x Miniconda3-latest-Linux-x86_64.sh\n",
        "!time bash ./Miniconda3-latest-Linux-x86_64.sh -b -f -p /usr/local\n",
        "!time conda install -q -y -c conda-forge rdkit"
      ],
      "execution_count": 2,
      "outputs": [
        {
          "output_type": "stream",
          "text": [
            "--2019-11-30 05:14:17--  https://repo.continuum.io/miniconda/Miniconda3-latest-Linux-x86_64.sh\n",
            "Resolving repo.continuum.io (repo.continuum.io)... 104.18.200.79, 104.18.201.79, 2606:4700::6812:c84f, ...\n",
            "Connecting to repo.continuum.io (repo.continuum.io)|104.18.200.79|:443... connected.\n",
            "HTTP request sent, awaiting response... 200 OK\n",
            "Length: 71785000 (68M) [application/x-sh]\n",
            "Saving to: ‘Miniconda3-latest-Linux-x86_64.sh’\n",
            "\n",
            "\r          Miniconda   0%[                    ]       0  --.-KB/s               \r         Miniconda3  57%[==========>         ]  39.58M   198MB/s               \rMiniconda3-latest-L 100%[===================>]  68.46M   219MB/s    in 0.3s    \n",
            "\n",
            "2019-11-30 05:14:17 (219 MB/s) - ‘Miniconda3-latest-Linux-x86_64.sh’ saved [71785000/71785000]\n",
            "\n",
            "PREFIX=/usr/local\n",
            "Unpacking payload ...\n",
            "Collecting package metadata (current_repodata.json): - \b\b\\ \b\b| \b\bdone\n",
            "Solving environment: - \b\b\\ \b\bdone\n",
            "\n",
            "## Package Plan ##\n",
            "\n",
            "  environment location: /usr/local\n",
            "\n",
            "  added / updated specs:\n",
            "    - _libgcc_mutex==0.1=main\n",
            "    - asn1crypto==1.2.0=py37_0\n",
            "    - ca-certificates==2019.10.16=0\n",
            "    - certifi==2019.9.11=py37_0\n",
            "    - cffi==1.13.0=py37h2e261b9_0\n",
            "    - chardet==3.0.4=py37_1003\n",
            "    - conda-package-handling==1.6.0=py37h7b6447c_0\n",
            "    - conda==4.7.12=py37_0\n",
            "    - cryptography==2.8=py37h1ba5d50_0\n",
            "    - idna==2.8=py37_0\n",
            "    - libedit==3.1.20181209=hc058e9b_0\n",
            "    - libffi==3.2.1=hd88cf55_4\n",
            "    - libgcc-ng==9.1.0=hdf63c60_0\n",
            "    - libstdcxx-ng==9.1.0=hdf63c60_0\n",
            "    - ncurses==6.1=he6710b0_1\n",
            "    - openssl==1.1.1d=h7b6447c_3\n",
            "    - pip==19.3.1=py37_0\n",
            "    - pycosat==0.6.3=py37h14c3975_0\n",
            "    - pycparser==2.19=py37_0\n",
            "    - pyopenssl==19.0.0=py37_0\n",
            "    - pysocks==1.7.1=py37_0\n",
            "    - python==3.7.4=h265db76_1\n",
            "    - readline==7.0=h7b6447c_5\n",
            "    - requests==2.22.0=py37_0\n",
            "    - ruamel_yaml==0.15.46=py37h14c3975_0\n",
            "    - setuptools==41.4.0=py37_0\n",
            "    - six==1.12.0=py37_0\n",
            "    - sqlite==3.30.0=h7b6447c_0\n",
            "    - tk==8.6.8=hbc83047_0\n",
            "    - tqdm==4.36.1=py_0\n",
            "    - urllib3==1.24.2=py37_0\n",
            "    - wheel==0.33.6=py37_0\n",
            "    - xz==5.2.4=h14c3975_4\n",
            "    - yaml==0.1.7=had09818_2\n",
            "    - zlib==1.2.11=h7b6447c_3\n",
            "\n",
            "\n",
            "The following NEW packages will be INSTALLED:\n",
            "\n",
            "  _libgcc_mutex      pkgs/main/linux-64::_libgcc_mutex-0.1-main\n",
            "  asn1crypto         pkgs/main/linux-64::asn1crypto-1.2.0-py37_0\n",
            "  ca-certificates    pkgs/main/linux-64::ca-certificates-2019.10.16-0\n",
            "  certifi            pkgs/main/linux-64::certifi-2019.9.11-py37_0\n",
            "  cffi               pkgs/main/linux-64::cffi-1.13.0-py37h2e261b9_0\n",
            "  chardet            pkgs/main/linux-64::chardet-3.0.4-py37_1003\n",
            "  conda              pkgs/main/linux-64::conda-4.7.12-py37_0\n",
            "  conda-package-han~ pkgs/main/linux-64::conda-package-handling-1.6.0-py37h7b6447c_0\n",
            "  cryptography       pkgs/main/linux-64::cryptography-2.8-py37h1ba5d50_0\n",
            "  idna               pkgs/main/linux-64::idna-2.8-py37_0\n",
            "  libedit            pkgs/main/linux-64::libedit-3.1.20181209-hc058e9b_0\n",
            "  libffi             pkgs/main/linux-64::libffi-3.2.1-hd88cf55_4\n",
            "  libgcc-ng          pkgs/main/linux-64::libgcc-ng-9.1.0-hdf63c60_0\n",
            "  libstdcxx-ng       pkgs/main/linux-64::libstdcxx-ng-9.1.0-hdf63c60_0\n",
            "  ncurses            pkgs/main/linux-64::ncurses-6.1-he6710b0_1\n",
            "  openssl            pkgs/main/linux-64::openssl-1.1.1d-h7b6447c_3\n",
            "  pip                pkgs/main/linux-64::pip-19.3.1-py37_0\n",
            "  pycosat            pkgs/main/linux-64::pycosat-0.6.3-py37h14c3975_0\n",
            "  pycparser          pkgs/main/linux-64::pycparser-2.19-py37_0\n",
            "  pyopenssl          pkgs/main/linux-64::pyopenssl-19.0.0-py37_0\n",
            "  pysocks            pkgs/main/linux-64::pysocks-1.7.1-py37_0\n",
            "  python             pkgs/main/linux-64::python-3.7.4-h265db76_1\n",
            "  readline           pkgs/main/linux-64::readline-7.0-h7b6447c_5\n",
            "  requests           pkgs/main/linux-64::requests-2.22.0-py37_0\n",
            "  ruamel_yaml        pkgs/main/linux-64::ruamel_yaml-0.15.46-py37h14c3975_0\n",
            "  setuptools         pkgs/main/linux-64::setuptools-41.4.0-py37_0\n",
            "  six                pkgs/main/linux-64::six-1.12.0-py37_0\n",
            "  sqlite             pkgs/main/linux-64::sqlite-3.30.0-h7b6447c_0\n",
            "  tk                 pkgs/main/linux-64::tk-8.6.8-hbc83047_0\n",
            "  tqdm               pkgs/main/noarch::tqdm-4.36.1-py_0\n",
            "  urllib3            pkgs/main/linux-64::urllib3-1.24.2-py37_0\n",
            "  wheel              pkgs/main/linux-64::wheel-0.33.6-py37_0\n",
            "  xz                 pkgs/main/linux-64::xz-5.2.4-h14c3975_4\n",
            "  yaml               pkgs/main/linux-64::yaml-0.1.7-had09818_2\n",
            "  zlib               pkgs/main/linux-64::zlib-1.2.11-h7b6447c_3\n",
            "\n",
            "\n",
            "Preparing transaction: / \b\b- \b\b\\ \b\b| \b\bdone\n",
            "Executing transaction: - \b\b\\ \b\b| \b\b/ \b\b- \b\b\\ \b\b| \b\b/ \b\b- \b\b\\ \b\b| \b\bdone\n",
            "installation finished.\n",
            "WARNING:\n",
            "    You currently have a PYTHONPATH environment variable set. This may cause\n",
            "    unexpected behavior when running the Python interpreter in Miniconda3.\n",
            "    For best results, please verify that your PYTHONPATH only points to\n",
            "    directories of packages that are compatible with the Python interpreter\n",
            "    in Miniconda3: /usr/local\n",
            "\n",
            "real\t0m28.879s\n",
            "user\t0m8.301s\n",
            "sys\t0m3.429s\n",
            "Collecting package metadata (current_repodata.json): ...working... done\n",
            "Solving environment: ...working... done\n",
            "\n",
            "## Package Plan ##\n",
            "\n",
            "  environment location: /usr/local\n",
            "\n",
            "  added / updated specs:\n",
            "    - rdkit\n",
            "\n",
            "\n",
            "The following packages will be downloaded:\n",
            "\n",
            "    package                    |            build\n",
            "    ---------------------------|-----------------\n",
            "    boost-1.70.0               |   py37h9de70de_1         337 KB  conda-forge\n",
            "    boost-cpp-1.70.0           |       h8e57a91_2        21.1 MB  conda-forge\n",
            "    bzip2-1.0.8                |       h516909a_1         397 KB  conda-forge\n",
            "    ca-certificates-2019.11.28 |       hecc5488_0         145 KB  conda-forge\n",
            "    cairo-1.16.0               |    hfb77d84_1002         1.5 MB  conda-forge\n",
            "    certifi-2019.11.28         |           py37_0         148 KB  conda-forge\n",
            "    conda-4.7.12               |           py37_0         3.0 MB  conda-forge\n",
            "    fontconfig-2.13.1          |    h86ecdb6_1001         340 KB  conda-forge\n",
            "    freetype-2.10.0            |       he983fc9_1         884 KB  conda-forge\n",
            "    gettext-0.19.8.1           |    hc5be6a0_1002         3.6 MB  conda-forge\n",
            "    glib-2.58.3                |py37h6f030ca_1002         3.3 MB  conda-forge\n",
            "    icu-64.2                   |       he1b5a44_1        12.6 MB  conda-forge\n",
            "    jpeg-9c                    |    h14c3975_1001         251 KB  conda-forge\n",
            "    libblas-3.8.0              |      14_openblas          10 KB  conda-forge\n",
            "    libcblas-3.8.0             |      14_openblas          10 KB  conda-forge\n",
            "    libgfortran-ng-7.3.0       |       hdf63c60_2         1.7 MB  conda-forge\n",
            "    libiconv-1.15              |    h516909a_1005         2.0 MB  conda-forge\n",
            "    liblapack-3.8.0            |      14_openblas          10 KB  conda-forge\n",
            "    libopenblas-0.3.7          |       h6e990d7_3         7.6 MB  conda-forge\n",
            "    libpng-1.6.37              |       hed695b0_0         343 KB  conda-forge\n",
            "    libtiff-4.1.0              |       hc3755c2_1         609 KB  conda-forge\n",
            "    libuuid-2.32.1             |    h14c3975_1000          26 KB  conda-forge\n",
            "    libxcb-1.13                |    h14c3975_1002         396 KB  conda-forge\n",
            "    libxml2-2.9.10             |       hee79883_0         1.3 MB  conda-forge\n",
            "    lz4-c-1.8.3                |    he1b5a44_1001         187 KB  conda-forge\n",
            "    numpy-1.17.3               |   py37h95a1406_0         5.1 MB  conda-forge\n",
            "    olefile-0.46               |             py_0          31 KB  conda-forge\n",
            "    openssl-1.1.1d             |       h516909a_0         2.1 MB  conda-forge\n",
            "    pandas-0.25.3              |   py37hb3f55d8_0        11.4 MB  conda-forge\n",
            "    pcre-8.43                  |       he1b5a44_0         257 KB  conda-forge\n",
            "    pillow-6.2.1               |   py37h34e0f95_0         643 KB\n",
            "    pixman-0.38.0              |    h516909a_1003         594 KB  conda-forge\n",
            "    pthread-stubs-0.4          |    h14c3975_1001           5 KB  conda-forge\n",
            "    pycairo-1.18.2             |   py37h438ddbb_0          77 KB  conda-forge\n",
            "    python-dateutil-2.8.1      |             py_0         220 KB  conda-forge\n",
            "    pytz-2019.3                |             py_0         237 KB  conda-forge\n",
            "    rdkit-2019.09.1            |   py37hb31dc5d_0        23.8 MB  conda-forge\n",
            "    xorg-kbproto-1.0.7         |    h14c3975_1002          26 KB  conda-forge\n",
            "    xorg-libice-1.0.10         |       h516909a_0          57 KB  conda-forge\n",
            "    xorg-libsm-1.2.3           |    h84519dc_1000          25 KB  conda-forge\n",
            "    xorg-libx11-1.6.9          |       h516909a_0         918 KB  conda-forge\n",
            "    xorg-libxau-1.0.9          |       h14c3975_0          13 KB  conda-forge\n",
            "    xorg-libxdmcp-1.1.3        |       h516909a_0          18 KB  conda-forge\n",
            "    xorg-libxext-1.3.4         |       h516909a_0          51 KB  conda-forge\n",
            "    xorg-libxrender-0.9.10     |    h516909a_1002          31 KB  conda-forge\n",
            "    xorg-renderproto-0.11.1    |    h14c3975_1002           8 KB  conda-forge\n",
            "    xorg-xextproto-7.3.0       |    h14c3975_1002          27 KB  conda-forge\n",
            "    xorg-xproto-7.0.31         |    h14c3975_1007          72 KB  conda-forge\n",
            "    zstd-1.4.4                 |       h3b9ef0a_1         989 KB  conda-forge\n",
            "    ------------------------------------------------------------\n",
            "                                           Total:       108.3 MB\n",
            "\n",
            "The following NEW packages will be INSTALLED:\n",
            "\n",
            "  boost              conda-forge/linux-64::boost-1.70.0-py37h9de70de_1\n",
            "  boost-cpp          conda-forge/linux-64::boost-cpp-1.70.0-h8e57a91_2\n",
            "  bzip2              conda-forge/linux-64::bzip2-1.0.8-h516909a_1\n",
            "  cairo              conda-forge/linux-64::cairo-1.16.0-hfb77d84_1002\n",
            "  fontconfig         conda-forge/linux-64::fontconfig-2.13.1-h86ecdb6_1001\n",
            "  freetype           conda-forge/linux-64::freetype-2.10.0-he983fc9_1\n",
            "  gettext            conda-forge/linux-64::gettext-0.19.8.1-hc5be6a0_1002\n",
            "  glib               conda-forge/linux-64::glib-2.58.3-py37h6f030ca_1002\n",
            "  icu                conda-forge/linux-64::icu-64.2-he1b5a44_1\n",
            "  jpeg               conda-forge/linux-64::jpeg-9c-h14c3975_1001\n",
            "  libblas            conda-forge/linux-64::libblas-3.8.0-14_openblas\n",
            "  libcblas           conda-forge/linux-64::libcblas-3.8.0-14_openblas\n",
            "  libgfortran-ng     conda-forge/linux-64::libgfortran-ng-7.3.0-hdf63c60_2\n",
            "  libiconv           conda-forge/linux-64::libiconv-1.15-h516909a_1005\n",
            "  liblapack          conda-forge/linux-64::liblapack-3.8.0-14_openblas\n",
            "  libopenblas        conda-forge/linux-64::libopenblas-0.3.7-h6e990d7_3\n",
            "  libpng             conda-forge/linux-64::libpng-1.6.37-hed695b0_0\n",
            "  libtiff            conda-forge/linux-64::libtiff-4.1.0-hc3755c2_1\n",
            "  libuuid            conda-forge/linux-64::libuuid-2.32.1-h14c3975_1000\n",
            "  libxcb             conda-forge/linux-64::libxcb-1.13-h14c3975_1002\n",
            "  libxml2            conda-forge/linux-64::libxml2-2.9.10-hee79883_0\n",
            "  lz4-c              conda-forge/linux-64::lz4-c-1.8.3-he1b5a44_1001\n",
            "  numpy              conda-forge/linux-64::numpy-1.17.3-py37h95a1406_0\n",
            "  olefile            conda-forge/noarch::olefile-0.46-py_0\n",
            "  pandas             conda-forge/linux-64::pandas-0.25.3-py37hb3f55d8_0\n",
            "  pcre               conda-forge/linux-64::pcre-8.43-he1b5a44_0\n",
            "  pillow             pkgs/main/linux-64::pillow-6.2.1-py37h34e0f95_0\n",
            "  pixman             conda-forge/linux-64::pixman-0.38.0-h516909a_1003\n",
            "  pthread-stubs      conda-forge/linux-64::pthread-stubs-0.4-h14c3975_1001\n",
            "  pycairo            conda-forge/linux-64::pycairo-1.18.2-py37h438ddbb_0\n",
            "  python-dateutil    conda-forge/noarch::python-dateutil-2.8.1-py_0\n",
            "  pytz               conda-forge/noarch::pytz-2019.3-py_0\n",
            "  rdkit              conda-forge/linux-64::rdkit-2019.09.1-py37hb31dc5d_0\n",
            "  xorg-kbproto       conda-forge/linux-64::xorg-kbproto-1.0.7-h14c3975_1002\n",
            "  xorg-libice        conda-forge/linux-64::xorg-libice-1.0.10-h516909a_0\n",
            "  xorg-libsm         conda-forge/linux-64::xorg-libsm-1.2.3-h84519dc_1000\n",
            "  xorg-libx11        conda-forge/linux-64::xorg-libx11-1.6.9-h516909a_0\n",
            "  xorg-libxau        conda-forge/linux-64::xorg-libxau-1.0.9-h14c3975_0\n",
            "  xorg-libxdmcp      conda-forge/linux-64::xorg-libxdmcp-1.1.3-h516909a_0\n",
            "  xorg-libxext       conda-forge/linux-64::xorg-libxext-1.3.4-h516909a_0\n",
            "  xorg-libxrender    conda-forge/linux-64::xorg-libxrender-0.9.10-h516909a_1002\n",
            "  xorg-renderproto   conda-forge/linux-64::xorg-renderproto-0.11.1-h14c3975_1002\n",
            "  xorg-xextproto     conda-forge/linux-64::xorg-xextproto-7.3.0-h14c3975_1002\n",
            "  xorg-xproto        conda-forge/linux-64::xorg-xproto-7.0.31-h14c3975_1007\n",
            "  zstd               conda-forge/linux-64::zstd-1.4.4-h3b9ef0a_1\n",
            "\n",
            "The following packages will be UPDATED:\n",
            "\n",
            "  ca-certificates    pkgs/main::ca-certificates-2019.10.16~ --> conda-forge::ca-certificates-2019.11.28-hecc5488_0\n",
            "  certifi               pkgs/main::certifi-2019.9.11-py37_0 --> conda-forge::certifi-2019.11.28-py37_0\n",
            "\n",
            "The following packages will be SUPERSEDED by a higher-priority channel:\n",
            "\n",
            "  conda                                           pkgs/main --> conda-forge\n",
            "  openssl              pkgs/main::openssl-1.1.1d-h7b6447c_3 --> conda-forge::openssl-1.1.1d-h516909a_0\n",
            "\n",
            "\n",
            "Preparing transaction: ...working... done\n",
            "Verifying transaction: ...working... done\n",
            "Executing transaction: ...working... done\n",
            "\n",
            "real\t0m44.083s\n",
            "user\t0m37.572s\n",
            "sys\t0m4.661s\n"
          ],
          "name": "stdout"
        }
      ]
    },
    {
      "cell_type": "code",
      "metadata": {
        "id": "BFcqJ1yruySG",
        "colab_type": "code",
        "colab": {}
      },
      "source": [
        "%matplotlib inline\n",
        "import matplotlib.pyplot as plt\n",
        "import sys\n",
        "import os\n",
        "sys.path.append('/usr/local/lib/python3.7/site-packages/')\n"
      ],
      "execution_count": 0,
      "outputs": []
    },
    {
      "cell_type": "code",
      "metadata": {
        "id": "AVmXFY9UvJNT",
        "colab_type": "code",
        "colab": {}
      },
      "source": [
        "import numpy as np\n",
        "import pandas as pd\n",
        " \n",
        "from rdkit import Chem\n",
        "from rdkit.Chem import DataStructs\n",
        "from rdkit.Chem import AllChem\n",
        "from rdkit.Chem import RDConfig\n",
        "from rdkit import rdBase\n",
        "from rdkit.Chem.Draw import IPythonConsole\n",
        " \n",
        "trainsdf = Chem.SDMolSupplier(os.path.join( RDConfig.RDDocsDir, 'Book/data/solubility.train.sdf'))\n",
        "testsdf = Chem.SDMolSupplier(os.path.join( RDConfig.RDDocsDir, 'Book/data/solubility.test.sdf'))\n",
        "train_mols = [mol for mol in trainsdf if mol != None]\n",
        "test_mols = [mol for mol in testsdf if mol != None]\n",
        "sol_class = {\"(A) low\":0, \"(B) medium\":1, \"(C) high\": 2}\n"
      ],
      "execution_count": 0,
      "outputs": []
    },
    {
      "cell_type": "code",
      "metadata": {
        "id": "ceLXJfO7vMfw",
        "colab_type": "code",
        "colab": {}
      },
      "source": [
        "from __future__ import print_function #2.X대 python호환을 위해\n",
        "from rdkit import Chem"
      ],
      "execution_count": 0,
      "outputs": []
    },
    {
      "cell_type": "code",
      "metadata": {
        "id": "XV2ZXVZ_vs8X",
        "colab_type": "code",
        "colab": {}
      },
      "source": [
        "from rdkit.Chem import AllChem\n",
        "from rdkit.Chem.Draw import IPythonConsole\n",
        "from rdkit.Chem import Draw"
      ],
      "execution_count": 0,
      "outputs": []
    },
    {
      "cell_type": "markdown",
      "metadata": {
        "id": "FepzK7qqzIUF",
        "colab_type": "text"
      },
      "source": [
        "SMILES - A Simplified Chemcal Language\n",
        "\n",
        "## 3. SMILES Sepcification Rules (SMILES 규칙)\n",
        "- SMILE는 띄어쓰기를 사용하지 않고 원자들을 일렬로 나열하여 표현한다.\n",
        "- 수소원자는 생략하거나, 포함해도 된다.\n",
        "- 방향족 물질들은 직관적으로 명시하거나 Kekulé form으로 분류할 수 있다.\n",
        "- 대표적으로 5가지의 규칙이 있다. ( 원자(atom), 결합(bond), 가지(branch), 고리닫힘(ring closure), 단절(disconnection) ) \n",
        "### 2.1 Atoms(원자)\n",
        "\n",
        "- 수소를 포함하지 않는 단일원자는 [ ]사용\n",
        "organic subset는 [ ] 없이 쓰이기도 한다.\n",
        "- 최소 원자가 전자를 갖는다고 인식한다. :: B (3), C (4), N (3,5), O (2), P (3,5), S (2,4,6), 할로겐족(1).\n",
        "지방족 탄소는 대문자 'C' 로, 방향족 탄소는 'c'로 명시한다."
      ]
    },
    {
      "cell_type": "code",
      "metadata": {
        "id": "GXWP5tTm1plm",
        "colab_type": "code",
        "colab": {
          "base_uri": "https://localhost:8080/",
          "height": 167
        },
        "outputId": "c41470cf-090e-49ae-e744-fb99ea95de56"
      },
      "source": [
        "m = Chem.MolFromSmiles('C') # 수소를 생략해도 출력값에 포함된다.\n",
        "m"
      ],
      "execution_count": 36,
      "outputs": [
        {
          "output_type": "execute_result",
          "data": {
            "image/png": "[encoded data removed]",
            "text/plain": [
              "<rdkit.Chem.rdchem.Mol at 0x7fd9f69bc440>"
            ]
          },
          "metadata": {
            "tags": []
          },
          "execution_count": 36
        }
      ]
    },
    {
      "cell_type": "code",
      "metadata": {
        "id": "A6BEU5Q91xcB",
        "colab_type": "code",
        "colab": {
          "base_uri": "https://localhost:8080/",
          "height": 167
        },
        "outputId": "f395e63d-9d89-465f-bac9-946637076a16"
      },
      "source": [
        "m = Chem.MolFromSmiles('P')\n",
        "m"
      ],
      "execution_count": 38,
      "outputs": [
        {
          "output_type": "execute_result",
          "data": {
            "image/png": "[encoded data removed]",
            "text/plain": [
              "<rdkit.Chem.rdchem.Mol at 0x7fd9f69bcda0>"
            ]
          },
          "metadata": {
            "tags": []
          },
          "execution_count": 38
        }
      ]
    },
    {
      "cell_type": "markdown",
      "metadata": {
        "id": "K8CI_HGr3KDv",
        "colab_type": "text"
      },
      "source": [
        "- '$[]$'속의 수소와 형식전하는 반드시 명시되어야 한다. - 결합된 수소의 수는 H 와 숫자로 표현된다.\n",
        "- 형식전하는 + 혹은 - 로 표시되어야 한다. 명시되어 있지 않으면 전하는 0으로 가정한다.\n",
        "$[Fe+++] = [Fe+3]$"
      ]
    },
    {
      "cell_type": "code",
      "metadata": {
        "id": "L7LmxUAR3Vk0",
        "colab_type": "code",
        "colab": {
          "base_uri": "https://localhost:8080/",
          "height": 185
        },
        "outputId": "244f51ab-6dfe-4144-ece5-c6bbffb4961b"
      },
      "source": [
        "m = Chem.MolFromSmiles('[H+]')\n",
        "m"
      ],
      "execution_count": 43,
      "outputs": [
        {
          "output_type": "stream",
          "text": [
            "RDKit WARNING: [05:52:22] WARNING: not removing hydrogen atom without neighbors\n"
          ],
          "name": "stderr"
        },
        {
          "output_type": "execute_result",
          "data": {
            "image/png": "[encoded data removed]",
            "text/plain": [
              "<rdkit.Chem.rdchem.Mol at 0x7fd9f690d080>"
            ]
          },
          "metadata": {
            "tags": []
          },
          "execution_count": 43
        }
      ]
    },
    {
      "cell_type": "code",
      "metadata": {
        "id": "2HFsSgt_3ZYn",
        "colab_type": "code",
        "colab": {
          "base_uri": "https://localhost:8080/",
          "height": 167
        },
        "outputId": "bbdffe33-08ff-4a03-ff44-89d630a40933"
      },
      "source": [
        "m = Chem.MolFromSmiles('[Fe++]')\n",
        "m"
      ],
      "execution_count": 46,
      "outputs": [
        {
          "output_type": "execute_result",
          "data": {
            "image/png": "[encoded data removed]",
            "text/plain": [
              "<rdkit.Chem.rdchem.Mol at 0x7fd9f690da30>"
            ]
          },
          "metadata": {
            "tags": []
          },
          "execution_count": 46
        }
      ]
    },
    {
      "cell_type": "markdown",
      "metadata": {
        "id": "e-t_8jzc3uQE",
        "colab_type": "text"
      },
      "source": [
        "### 2.2 결합\n",
        "- 단일결합은 생략해도 상관없고, 이중결합과 삼중결합, 방향족 결합만 표기해준다."
      ]
    },
    {
      "cell_type": "code",
      "metadata": {
        "id": "g4JCxOBP32Gy",
        "colab_type": "code",
        "colab": {
          "base_uri": "https://localhost:8080/",
          "height": 167
        },
        "outputId": "a2e51d0a-8d37-4d3c-a492-bd966941860c"
      },
      "source": [
        "m = Chem.MolFromSmiles('C=C') # 이중결합은 = 을 이용하여 연결해준다.\n",
        "m"
      ],
      "execution_count": 68,
      "outputs": [
        {
          "output_type": "execute_result",
          "data": {
            "image/png": "[encoded data removed]",
            "text/plain": [
              "<rdkit.Chem.rdchem.Mol at 0x7fd9f69268f0>"
            ]
          },
          "metadata": {
            "tags": []
          },
          "execution_count": 68
        }
      ]
    },
    {
      "cell_type": "code",
      "metadata": {
        "id": "eVpRgHXF36vQ",
        "colab_type": "code",
        "colab": {
          "base_uri": "https://localhost:8080/",
          "height": 167
        },
        "outputId": "3cb651a1-2d99-4dcd-9506-fca16af97a02"
      },
      "source": [
        "m = Chem.MolFromSmiles('C#N') # 삼중결합은 #을 이용하여 연결해준다.\n",
        "m"
      ],
      "execution_count": 69,
      "outputs": [
        {
          "output_type": "execute_result",
          "data": {
            "image/png": "[encoded data removed]",
            "text/plain": [
              "<rdkit.Chem.rdchem.Mol at 0x7fd9f69266c0>"
            ]
          },
          "metadata": {
            "tags": []
          },
          "execution_count": 69
        }
      ]
    },
    {
      "cell_type": "markdown",
      "metadata": {
        "id": "M_9KyabW5C0V",
        "colab_type": "text"
      },
      "source": [
        "이와 같은 규칙을 이용하여 6-hydroxy-1,4-hexadiene을 표현해보면"
      ]
    },
    {
      "cell_type": "code",
      "metadata": {
        "id": "Zf_qgcg55O7h",
        "colab_type": "code",
        "colab": {
          "base_uri": "https://localhost:8080/",
          "height": 167
        },
        "outputId": "d63c4407-6ad2-47b4-c638-6fc5b27df0f5"
      },
      "source": [
        "m = Chem.MolFromSmiles('C=CCC=CCO')\n",
        "m"
      ],
      "execution_count": 73,
      "outputs": [
        {
          "output_type": "execute_result",
          "data": {
            "image/png": "[encoded data removed]",
            "text/plain": [
              "<rdkit.Chem.rdchem.Mol at 0x7fd9f6931080>"
            ]
          },
          "metadata": {
            "tags": []
          },
          "execution_count": 73
        }
      ]
    },
    {
      "cell_type": "markdown",
      "metadata": {
        "id": "XjWEc9WC5oiH",
        "colab_type": "text"
      },
      "source": [
        "### 가지(치환기, 알킬기)\n",
        "- 가지들은 중첩되거나 쌓일 수 있으며, 소괄호`()`로 묶어 **결합 원소의 오른쪽에 써준다.**"
      ]
    },
    {
      "cell_type": "code",
      "metadata": {
        "id": "oVE4mq4n5SHu",
        "colab_type": "code",
        "colab": {
          "base_uri": "https://localhost:8080/",
          "height": 167
        },
        "outputId": "0a4f6377-ebae-4af9-bc23-33842c040a21"
      },
      "source": [
        "m = Chem.MolFromSmiles('CCN(CC)CC') # Triethylamine\n",
        "m"
      ],
      "execution_count": 74,
      "outputs": [
        {
          "output_type": "execute_result",
          "data": {
            "image/png": "[encoded data removed]",
            "text/plain": [
              "<rdkit.Chem.rdchem.Mol at 0x7fd9f69314e0>"
            ]
          },
          "metadata": {
            "tags": []
          },
          "execution_count": 74
        }
      ]
    },
    {
      "cell_type": "code",
      "metadata": {
        "id": "YOSCpRcC6TAz",
        "colab_type": "code",
        "colab": {
          "base_uri": "https://localhost:8080/",
          "height": 167
        },
        "outputId": "47feabd4-0cc9-41ae-d7da-ca845c4283b0"
      },
      "source": [
        "m = Chem.MolFromSmiles('CC(C)C(=O)O') # Isobutyric acid\n",
        "m"
      ],
      "execution_count": 76,
      "outputs": [
        {
          "output_type": "execute_result",
          "data": {
            "image/png": "[encoded data removed]",
            "text/plain": [
              "<rdkit.Chem.rdchem.Mol at 0x7fd9f6931c60>"
            ]
          },
          "metadata": {
            "tags": []
          },
          "execution_count": 76
        }
      ]
    },
    {
      "cell_type": "code",
      "metadata": {
        "id": "dbvFAb8C6kdu",
        "colab_type": "code",
        "colab": {
          "base_uri": "https://localhost:8080/",
          "height": 167
        },
        "outputId": "4200e440-ab50-45b7-8ab2-4d6fc65c9b85"
      },
      "source": [
        "m = Chem.MolFromSmiles('CC(=O)O') # acetic acid\n",
        "m"
      ],
      "execution_count": 78,
      "outputs": [
        {
          "output_type": "execute_result",
          "data": {
            "image/png": "[encoded data removed]",
            "text/plain": [
              "<rdkit.Chem.rdchem.Mol at 0x7fd9f6931d50>"
            ]
          },
          "metadata": {
            "tags": []
          },
          "execution_count": 78
        }
      ]
    },
    {
      "cell_type": "markdown",
      "metadata": {
        "id": "iWTcCEay7sSn",
        "colab_type": "text"
      },
      "source": [
        "### 2.4 고리구조\n",
        "\n",
        "- 고리형 구조는 고리에서 하나의 결합을 끊어 선형적으로 표시하고, 결합을 끊은 원자 바로 뒤에 숫자를 이용해 고리형 구조를 표현 <br>"
      ]
    },
    {
      "cell_type": "code",
      "metadata": {
        "id": "Jd-cU9nL65HX",
        "colab_type": "code",
        "colab": {
          "base_uri": "https://localhost:8080/",
          "height": 167
        },
        "outputId": "54348635-58aa-408f-c6dd-1f8a4d522ee6"
      },
      "source": [
        "m = Chem.MolFromSmiles('C1CCCC1') # cyclopentane\n",
        "m"
      ],
      "execution_count": 80,
      "outputs": [
        {
          "output_type": "execute_result",
          "data": {
            "image/png": "[encoded data removed]",
            "text/plain": [
              "<rdkit.Chem.rdchem.Mol at 0x7fd9f6931df0>"
            ]
          },
          "metadata": {
            "tags": []
          },
          "execution_count": 80
        }
      ]
    },
    {
      "cell_type": "code",
      "metadata": {
        "id": "8ITsCiHb7-C2",
        "colab_type": "code",
        "colab": {
          "base_uri": "https://localhost:8080/",
          "height": 167
        },
        "outputId": "548d1043-5b0c-435a-9651-f140c873e725"
      },
      "source": [
        "m = Chem.MolFromSmiles('C1C(C)C(C)C(C)C1')\n",
        "m"
      ],
      "execution_count": 104,
      "outputs": [
        {
          "output_type": "execute_result",
          "data": {
            "image/png": "[encoded data removed]",
            "text/plain": [
              "<rdkit.Chem.rdchem.Mol at 0x7fd9f6935210>"
            ]
          },
          "metadata": {
            "tags": []
          },
          "execution_count": 104
        }
      ]
    },
    {
      "cell_type": "markdown",
      "metadata": {
        "id": "ZTulk4pU8c5r",
        "colab_type": "text"
      },
      "source": [
        "- 한 가지의 분자의 다양한 표현은 우선순위가 없다.\n",
        "- 한 원자는 하나 이상의 `ring closure`을 가질 수 있다. 아래와 같은구조로 설명할 수 있다."
      ]
    },
    {
      "cell_type": "code",
      "metadata": {
        "id": "DtDVZ8BN8mme",
        "colab_type": "code",
        "colab": {
          "base_uri": "https://localhost:8080/",
          "height": 167
        },
        "outputId": "dfd60041-eabc-4db2-c2bd-acc0b58d2056"
      },
      "source": [
        "m = Chem.MolFromSmiles('O1CC(C)CCC1N1CCC(C)CC1')\n",
        "m"
      ],
      "execution_count": 93,
      "outputs": [
        {
          "output_type": "execute_result",
          "data": {
            "image/png": "[encoded data removed]",
            "text/plain": [
              "<rdkit.Chem.rdchem.Mol at 0x7fd9f6933c60>"
            ]
          },
          "metadata": {
            "tags": []
          },
          "execution_count": 93
        }
      ]
    },
    {
      "cell_type": "markdown",
      "metadata": {
        "id": "NN2n5712AE5x",
        "colab_type": "text"
      },
      "source": [
        "### 3.5 연결되지 않은 구조\n",
        "\n",
        "* disconnected혼합물은 ' . '을 사용하여 각각의 구조들을 분리시킨다.\n",
        "* 이온 혹은 리간드(ligands)의 연결은 순서에 상관없이 사용가능하다. 한 전하가 다른 전하로의 연결을 의미하는 것도 아니고, 알짜 전하를 반드시 0으로 가질 필요도 없다.\n",
        "<br><br>\n",
        "* 필요에 따라, 한 이온의 SMILE이 sodium phenoxide(석탄산나트륨)와 같이 다른 이온에 삽입될 수 있다.\n",
        "\n"
      ]
    },
    {
      "cell_type": "code",
      "metadata": {
        "colab_type": "code",
        "id": "akr259P0Bm95",
        "colab": {
          "base_uri": "https://localhost:8080/",
          "height": 167
        },
        "outputId": "2965b669-7324-48d6-b986-642ba7780640"
      },
      "source": [
        "m = Chem.MolFromSmiles('[O-]c1ccccc1.[Na+]')\n",
        "m"
      ],
      "execution_count": 105,
      "outputs": [
        {
          "output_type": "execute_result",
          "data": {
            "image/png": "[encoded data removed]",
            "text/plain": [
              "<rdkit.Chem.rdchem.Mol at 0x7fd9f6839c60>"
            ]
          },
          "metadata": {
            "tags": []
          },
          "execution_count": 105
        }
      ]
    },
    {
      "cell_type": "code",
      "metadata": {
        "id": "oY_d879VBooK",
        "colab_type": "code",
        "colab": {
          "base_uri": "https://localhost:8080/",
          "height": 167
        },
        "outputId": "f9b4f34d-b3bf-4fd2-a5bb-255769211243"
      },
      "source": [
        "m = Chem.MolFromSmiles('c1cc([O-].[Na+])ccc1')\n",
        "m"
      ],
      "execution_count": 102,
      "outputs": [
        {
          "output_type": "execute_result",
          "data": {
            "image/png": "[encoded data removed]",
            "text/plain": [
              "<rdkit.Chem.rdchem.Mol at 0x7fd9f6a16300>"
            ]
          },
          "metadata": {
            "tags": []
          },
          "execution_count": 102
        }
      ]
    },
    {
      "cell_type": "markdown",
      "metadata": {
        "id": "qrvbzNDtEEhM",
        "colab_type": "text"
      },
      "source": [
        "## 이성질체 SMILES\n",
        "\n",
        "- 동위원소, 이중결합의 구조, 카이랄성을 규정함.\n",
        "- IUPAC 명명법에서와, CIP에서의 명명법과는 다르게 카이랄성을 명명함.\n",
        "- 모든 화합물의 카이랄성이 알려져 있지는 않기 때문에, 가능한 카이랄성만을 표기함.\n"
      ]
    },
    {
      "cell_type": "markdown",
      "metadata": {
        "id": "nACdhArbEoCp",
        "colab_type": "text"
      },
      "source": [
        "### 3.1 동위원소\n",
        "- 동위원소는 [원자량 + 원자기호] 로 표기"
      ]
    },
    {
      "cell_type": "markdown",
      "metadata": {
        "id": "vwe08yXIFBx5",
        "colab_type": "text"
      },
      "source": [
        "SMILES | Name\n",
        "---- | ----\n",
        "$[12C]$ | carbon-12\n",
        "$[13C]$ | carbon-13\n",
        "$[C]$ | carbon(unspecified mass)\n",
        "$[13CH4]$ | C-13 methane"
      ]
    },
    {
      "cell_type": "markdown",
      "metadata": {
        "id": "hUB8tlUyFHgJ",
        "colab_type": "text"
      },
      "source": [
        "### 이중결합 배치\n",
        "* 이중결합의 구조 이성질체는 결합의 방향을 나타내며 '/'와'\\'로 명시한다.\n",
        "* '/'와'\\'는 결합된 원자들 간의 상대적인 위치를 나타내는 것으로, 이중결합으로 연결될 때에만 의미를 갖는다.<br>\n",
        "**cf)E,Z체계**<br>\n",
        "E(entgegon) : 반대편이라는 어원, 높은 우선순위를 갖는 탄소가 포함된 치환기가 이중결합의 **반대 위치**에 존재할 경우(≒trans-)<br>\n",
        "Z(zusammen) : 함께라는 어원, 높은 우선순위를 갖는 탄소가 포함된 치환기가 이중결합의 **같은 위치**에 존재할 경우(≒cis-)<br>\n",
        "Ex) E- and Z-1,2-dibromoethene\n"
      ]
    },
    {
      "cell_type": "code",
      "metadata": {
        "id": "RNxbA8Z0GqNG",
        "colab_type": "code",
        "colab": {
          "base_uri": "https://localhost:8080/",
          "height": 167
        },
        "outputId": "3501d750-4adf-4cdb-daf0-37e2803ca73a"
      },
      "source": [
        "E1 = Chem.MolFromSmiles('Br/C=C/Br') # 이중결합 왼쪽과 오른쪽의 슬래쉬가 방향이 같으면 E 방향이다.\n",
        "E2 = Chem.MolFromSmiles('Br/C=C\\Br') # 이중결합 왼쪽과 오른쪽의 슬래쉬가 방향이 반대면 Z 방향이다.\n",
        "E1"
      ],
      "execution_count": 109,
      "outputs": [
        {
          "output_type": "execute_result",
          "data": {
            "image/png": "[encoded data removed]",
            "text/plain": [
              "<rdkit.Chem.rdchem.Mol at 0x7fd9f6825990>"
            ]
          },
          "metadata": {
            "tags": []
          },
          "execution_count": 109
        }
      ]
    },
    {
      "cell_type": "code",
      "metadata": {
        "id": "HmkaBi3bH_BZ",
        "colab_type": "code",
        "colab": {
          "base_uri": "https://localhost:8080/",
          "height": 167
        },
        "outputId": "6858e63d-9959-473f-b38d-9169688eeebe"
      },
      "source": [
        "E2"
      ],
      "execution_count": 110,
      "outputs": [
        {
          "output_type": "execute_result",
          "data": {
            "image/png": "[encoded data removed]",
            "text/plain": [
              "<rdkit.Chem.rdchem.Mol at 0x7fd9f68396c0>"
            ]
          },
          "metadata": {
            "tags": []
          },
          "execution_count": 110
        }
      ]
    },
    {
      "cell_type": "markdown",
      "metadata": {
        "id": "WovtootTIlPX",
        "colab_type": "text"
      },
      "source": [
        "- SMILE과 CIP의 카이랄표현의 중요한 차이점은 SMILE은 국부적인 카이랄성(local chirality)를 표현할 수 있다는 점이다."
      ]
    },
    {
      "cell_type": "code",
      "metadata": {
        "id": "ixktLNGNJ6lJ",
        "colab_type": "code",
        "colab": {
          "base_uri": "https://localhost:8080/",
          "height": 167
        },
        "outputId": "46030e11-f255-43df-e4c0-987347874ed0"
      },
      "source": [
        "S1 = Chem.MolFromSmiles('Br/C=C/C=C/C')\n",
        "S2 = Chem.MolFromSmiles('Br/C=C/C=CC')\n",
        "S1"
      ],
      "execution_count": 111,
      "outputs": [
        {
          "output_type": "execute_result",
          "data": {
            "image/png": "[encoded data removed]",
            "text/plain": [
              "<rdkit.Chem.rdchem.Mol at 0x7fd9f69316c0>"
            ]
          },
          "metadata": {
            "tags": []
          },
          "execution_count": 111
        }
      ]
    },
    {
      "cell_type": "code",
      "metadata": {
        "id": "wS8862M9KTY1",
        "colab_type": "code",
        "colab": {
          "base_uri": "https://localhost:8080/",
          "height": 167
        },
        "outputId": "0196da47-5917-4f8e-d177-be8ead4c100a"
      },
      "source": [
        "S2"
      ],
      "execution_count": 113,
      "outputs": [
        {
          "output_type": "execute_result",
          "data": {
            "image/png": "[encoded data removed]",
            "text/plain": [
              "<rdkit.Chem.rdchem.Mol at 0x7fd9f6844760>"
            ]
          },
          "metadata": {
            "tags": []
          },
          "execution_count": 113
        }
      ]
    },
    {
      "cell_type": "markdown",
      "metadata": {
        "id": "2ib_xY8iP0Cz",
        "colab_type": "text"
      },
      "source": [
        "### 3.3 Configuration Around Tetrahedral Centers(사면체의 중심의 구조)\n",
        "* SMILE은 국부적 카이랄성을 기반으로한 가장 일반적인 형식의 명시법을 사용함.\n",
        "* SMILE에서 사면체의 중심은 카이랄 원자의 원자 기호에 카이랄이라는 명시(@ 혹은 @@)를 한다.\n",
        "* cf)**카이랄성(Chirality):**<br>\n",
        "거울상에 포갤 수 없는 분자를 **카이랄(chiral)**이라 한다.<br>\n",
        "**같은 분자식이라 하여도 입체구조에 의해 서로 다른 화합물이다. 이를 입체 이성질체라고 한다. **<br>\n",
        "카이랄성의 가장 일반적인 **원인은 네 개의 서로다른 치환기가 결합된 탄소에서 가장 많이 볼 수 있는 정사면체**인 원자 때문이다.<br>\n",
        "네 개의 **서로 다른 치환기체가 결합된** 탄소 원자는 두 개의 주요 대칭 요소가 없고 그래서 **카이랄 중심(chiral center)**라 불린다.<br>\n",
        "Ex) 1-Bromo-1-chloro-1-fluoromethane : C에 -Cl, -H, -F, -Br이 결합된 카이랄 중심이다.\n",
        "![chiral](https://upload.wikimedia.org/wikipedia/commons/thumb/3/3c/Chiral.svg/300px-Chiral.svg.png)\n",
        "(사진출처:위키피디아)"
      ]
    },
    {
      "cell_type": "code",
      "metadata": {
        "id": "4wSIwibvRX6F",
        "colab_type": "code",
        "colab": {
          "base_uri": "https://localhost:8080/",
          "height": 167
        },
        "outputId": "4a32f00d-7676-48b9-b447-4a6a1d29bf4b"
      },
      "source": [
        "S1 = Chem.MolFromSmiles('NC(C)(F)C(=O)O')\n",
        "S1"
      ],
      "execution_count": 116,
      "outputs": [
        {
          "output_type": "execute_result",
          "data": {
            "image/png": "[encoded data removed]",
            "text/plain": [
              "<rdkit.Chem.rdchem.Mol at 0x7fd9f6844f80>"
            ]
          },
          "metadata": {
            "tags": []
          },
          "execution_count": 116
        }
      ]
    },
    {
      "cell_type": "code",
      "metadata": {
        "id": "l-ZtVDSIRmCI",
        "colab_type": "code",
        "colab": {
          "base_uri": "https://localhost:8080/",
          "height": 167
        },
        "outputId": "abcbf6b6-7f7c-48a8-97de-0889855bc979"
      },
      "source": [
        "m = Chem.MolFromSmiles('N[C@](C)(F)C(=O)O')\n",
        "m"
      ],
      "execution_count": 122,
      "outputs": [
        {
          "output_type": "execute_result",
          "data": {
            "image/png": "[encoded data removed]",
            "text/plain": [
              "<rdkit.Chem.rdchem.Mol at 0x7fd9f6844e40>"
            ]
          },
          "metadata": {
            "tags": []
          },
          "execution_count": 122
        }
      ]
    },
    {
      "cell_type": "code",
      "metadata": {
        "id": "TnB6r6K_T5Nx",
        "colab_type": "code",
        "colab": {
          "base_uri": "https://localhost:8080/",
          "height": 167
        },
        "outputId": "2fb13668-efa9-49a2-f943-46794d8751b4"
      },
      "source": [
        "m = Chem.MolFromSmiles('N[C@@](F)(C)C(=O)O')\n",
        "m"
      ],
      "execution_count": 126,
      "outputs": [
        {
          "output_type": "execute_result",
          "data": {
            "image/png": "[encoded data removed]",
            "text/plain": [
              "<rdkit.Chem.rdchem.Mol at 0x7fd9f685bd50>"
            ]
          },
          "metadata": {
            "tags": []
          },
          "execution_count": 126
        }
      ]
    },
    {
      "cell_type": "code",
      "metadata": {
        "id": "U2l7z2X_TguJ",
        "colab_type": "code",
        "colab": {
          "base_uri": "https://localhost:8080/",
          "height": 35
        },
        "outputId": "86e461ee-c36a-4855-d947-4515e30306b7"
      },
      "source": [
        "m.HasSubstructMatch(Chem.MolFromSmiles('F[C@](N)(C)C(=O)O'),useChirality=True) # 이 둘의 구조가 같은지 확인"
      ],
      "execution_count": 127,
      "outputs": [
        {
          "output_type": "execute_result",
          "data": {
            "text/plain": [
              "True"
            ]
          },
          "metadata": {
            "tags": []
          },
          "execution_count": 127
        }
      ]
    },
    {
      "cell_type": "markdown",
      "metadata": {
        "id": "dUz405y-LrOT",
        "colab_type": "text"
      },
      "source": [
        "### 4.4 일반적인 카이랄 규칙\n",
        "\n",
        "* 사면체의 구조 등, 많은 종류의 카이랄성이 존재하며, '@'기호를 사용함으로써 카이랄 규격의 문법을 이용하였다.\n",
        "* SMILE에서 사용하는 일반적 카이랄 규격은'@'기호, 잇따르는 두 글자의 카이랄 표시, 그리고 잇따르는 수적인 카이랄 지정자의 3가지가 있다.\n",
        "* 가장 기초가 되는 카이랄 class는 각각의 degree(연결의 수); 4개의 연결에 기초가되는 클라스는 사면체(TH)이다.\n",
        "* 대부분의 경우 @1표시는 SMILE의 순서를 기준으로한 축에 반시계 방향으로 @2표시는 시계방향을 의미한다.\n",
        "* '@@'와 '@@@'는 '@2'와'@3'으로 해석된다.\n",
        "* **SMILE은 모든 범위에 관한 카이랄 규격을 다룬다. 따라서 정확하게 알고 있는 모든 것을 보장하는 언어이다.**\n",
        "\n",
        "* 이 섹션의 마지막 부분에선 사면체, 알렌식(allen-like), 사각평면, trigonal-bypyramidal, octahedral의 카이랄성에 제한될 것이다. 비록 많은 카이랄성은 위의 체계로 다룰 수 있겠지만, 이러한 5개의 클래스는 화학에서 매우 흔하고, 자주 다뤄지는 부분이다.\n",
        "\n",
        "* Tetrahedral:TH라는 기호로 표시되며, 4방위가 붙어있는 카이랄 클래스의 default임\n",
        "\n",
        "* Allen-like:AL의 기호로 표시되며, 카이랄 중심이 이중결합으로 연결된 2개가 붙어있는 카이랄 클래스의 default이다. 비록 C=C=C의 구조가 가장 흔하나, C=C=C=C=C 구조들도 또한 allen-like이다, 이중결합된 원자가 일렬로 짝수개가 연결된 것.\n",
        "\n",
        "\n",
        "\n",
        "\n"
      ]
    },
    {
      "cell_type": "markdown",
      "metadata": {
        "id": "PGigHDdyWuVa",
        "colab_type": "text"
      },
      "source": [
        "![AL](http://www.daylight.com/dayhtml/doc/theory/theory18.gif) | ![substituted](http://www.daylight.com/dayhtml/doc/theory/theory19.gif)\n",
        "---- | ----\n",
        "OC(Cl)=$[C@]$=C(C)F | OC=$[C@]$=CF\n",
        "OC(Cl)=$[C@AL1]$=C(C)F | OC($[H]$)=$[C@AL1]$=C($[H]$)F"
      ]
    },
    {
      "cell_type": "code",
      "metadata": {
        "id": "25XTJH4cWvAl",
        "colab_type": "code",
        "colab": {
          "base_uri": "https://localhost:8080/",
          "height": 35
        },
        "outputId": "09ef0af3-3400-47d5-e6cc-855741d046ff"
      },
      "source": [
        "m = Chem.MolFromSmiles('OC(Cl)=[C@]=C(C)F')\n",
        "m.HasSubstructMatch(Chem.MolFromSmiles('OC(Cl)=[C@@]=C(F)C'),useChirality=True) # 카이랄성이 일치하는지 확인"
      ],
      "execution_count": 138,
      "outputs": [
        {
          "output_type": "execute_result",
          "data": {
            "text/plain": [
              "True"
            ]
          },
          "metadata": {
            "tags": []
          },
          "execution_count": 138
        }
      ]
    },
    {
      "cell_type": "markdown",
      "metadata": {
        "id": "MTOyg1eJYFAz",
        "colab_type": "text"
      },
      "source": [
        "* 사각평면 : SP 기호로 표시\n",
        "@SP1,@SP2, @SP3; 4방위가 연결된 카이랄 class의 default는 아니고, 줄이는 표현 또한 없다. 또한 시계와 반시계방향이 없는 점이 특징임\n",
        "\n",
        "![SP](http://www.daylight.com/dayhtml/doc/theory/theory20.gif) | -\n",
        "---- | ----\n",
        "F$[Po@SP1]$(Cl)(Br)I | (SP1 lists in a \"U shape\")\n",
        "F$[Po@SP2]$(Br)(Cl)I | (SP2 lists in a \"4-shape\")\n",
        "F$[Po@SP3]$(Cl)(I)Br | (SP3 lists in a \"Z shape\")\n",
        "\n",
        "* Trigonal-bipyramidal:TB기호로 사용한다. 5개의 방향의 카이랄 class의 default이다.\n",
        "\n",
        "![TB](http://www.daylight.com/dayhtml/doc/theory/theory21.gif) <br>\n",
        "S$[As@@]$(F)(Cl)(Br)C=O<br>\n",
        "O=C$[As@]$(F)(Cl)(Br)S<br>"
      ]
    },
    {
      "cell_type": "code",
      "metadata": {
        "id": "swZ72VkXYH7X",
        "colab_type": "code",
        "colab": {
          "base_uri": "https://localhost:8080/",
          "height": 35
        },
        "outputId": "73c3dd6d-e546-4f76-baa3-62a98a26123f"
      },
      "source": [
        "m = Chem.MolFromSmiles('S[As@@](F)(Cl)(Br)C=O')\n",
        "m.HasSubstructMatch(Chem.MolFromSmiles('O=C[As@](Cl)(Br)(F)S'),useChirality=True)"
      ],
      "execution_count": 139,
      "outputs": [
        {
          "output_type": "execute_result",
          "data": {
            "text/plain": [
              "True"
            ]
          },
          "metadata": {
            "tags": []
          },
          "execution_count": 139
        }
      ]
    },
    {
      "cell_type": "code",
      "metadata": {
        "id": "8Ov1nv8ZY8Nv",
        "colab_type": "code",
        "colab": {
          "base_uri": "https://localhost:8080/",
          "height": 35
        },
        "outputId": "9b8a413e-a385-4c69-d78e-6dcc87148373"
      },
      "source": [
        "m.HasSubstructMatch(Chem.MolFromSmiles('O=C[As@](F)(Cl)(Br)S'),useChirality=True)"
      ],
      "execution_count": 140,
      "outputs": [
        {
          "output_type": "execute_result",
          "data": {
            "text/plain": [
              "True"
            ]
          },
          "metadata": {
            "tags": []
          },
          "execution_count": 140
        }
      ]
    },
    {
      "cell_type": "markdown",
      "metadata": {
        "id": "0C8EnH06Y_zJ",
        "colab_type": "text"
      },
      "source": [
        "* *Octahedral* : OH기호로 사용. 6개의 방향의 카이랄 class의 default임.\n",
        ">가능한 값은 @OH1~ @OH2 : @OH1(or @)는 한 개의 축이 다른 것과 연결을 SMILE에 의해 나열될 때, 4개의 중간, 수평적으로 연결된 원자들을 시계방향으로 나열시킨 것.;@OH2(or @@)는 시계방향\n",
        "\n",
        "![OH](http://www.daylight.com/dayhtml/doc/theory/theory22.gif)<br>\n",
        "S$[Co@@]$(F)(Cl)(Br)(I)C=O<br>\n",
        "O=C$[Co@]$(F)(Cl)(Br)(I)S"
      ]
    },
    {
      "cell_type": "code",
      "metadata": {
        "id": "LR6Y055VZP_o",
        "colab_type": "code",
        "colab": {}
      },
      "source": [
        ""
      ],
      "execution_count": 0,
      "outputs": []
    }
  ]
}