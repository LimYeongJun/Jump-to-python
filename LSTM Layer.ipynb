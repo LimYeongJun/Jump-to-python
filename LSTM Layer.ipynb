{
  "nbformat": 4,
  "nbformat_minor": 0,
  "metadata": {
    "colab": {
      "name": "Untitled41.ipynb",
      "provenance": [],
      "include_colab_link": true
    },
    "kernelspec": {
      "name": "python3",
      "display_name": "Python 3"
    }
  },
  "cells": [
    {
      "cell_type": "markdown",
      "metadata": {
        "id": "view-in-github",
        "colab_type": "text"
      },
      "source": [
        "<a href=\"https://colab.research.google.com/github/LimYeongJun/Jump-to-python/blob/master/LSTM%20Layer.ipynb\" target=\"_parent\"><img src=\"https://colab.research.google.com/assets/colab-badge.svg\" alt=\"Open In Colab\"/></a>"
      ]
    },
    {
      "cell_type": "code",
      "metadata": {
        "id": "9iC1GayC4uOi",
        "colab_type": "code",
        "outputId": "3dc9cfa0-f7a5-4815-b16c-4dcbfaff948f",
        "colab": {
          "base_uri": "https://localhost:8080/",
          "height": 395
        }
      },
      "source": [
        "try:\n",
        "\n",
        "    %tensorflow_version 2.x  # %tensorflow_version only exists in Colab\n",
        "\n",
        "except Exception:\n",
        "\n",
        "    pass\n",
        "\n",
        "\n",
        "\n",
        "from tensorflow.keras.models import Sequential\n",
        "from tensorflow.keras.layers import Embedding\n",
        "from tensorflow.keras.layers import Dense\n",
        "from tensorflow.keras.layers import LSTM\n",
        "\n",
        "model_lstm = Sequential()\n",
        "\n",
        "model_lstm.add(Embedding(1000, 32))\n",
        "model_lstm.add(LSTM(8, return_sequences = True))  # 이 문장을 추가해주면 LSTM 층을 쌓을 수 있다.\n",
        "model_lstm.add(LSTM(10))\n",
        "model_lstm.add(Dense(1, activation = 'sigmoid'))\n",
        "\n",
        "model_lstm.summary()"
      ],
      "execution_count": 0,
      "outputs": [
        {
          "output_type": "stream",
          "text": [
            "`%tensorflow_version` only switches the major version: `1.x` or `2.x`.\n",
            "You set: `2.x  # %tensorflow_version only exists in Colab`. This will be interpreted as: `2.x`.\n",
            "\n",
            "\n",
            "TensorFlow is already loaded. Please restart the runtime to change versions.\n",
            "Model: \"sequential_4\"\n",
            "_________________________________________________________________\n",
            "Layer (type)                 Output Shape              Param #   \n",
            "=================================================================\n",
            "embedding_4 (Embedding)      (None, None, 32)          32000     \n",
            "_________________________________________________________________\n",
            "lstm_5 (LSTM)                (None, None, 8)           1312      \n",
            "_________________________________________________________________\n",
            "lstm_6 (LSTM)                (None, 10)                760       \n",
            "_________________________________________________________________\n",
            "dense_4 (Dense)              (None, 1)                 11        \n",
            "=================================================================\n",
            "Total params: 34,083\n",
            "Trainable params: 34,083\n",
            "Non-trainable params: 0\n",
            "_________________________________________________________________\n"
          ],
          "name": "stdout"
        }
      ]
    },
    {
      "cell_type": "code",
      "metadata": {
        "id": "RNsSPIWV5QnS",
        "colab_type": "code",
        "colab": {}
      },
      "source": [
        ""
      ],
      "execution_count": 0,
      "outputs": []
    }
  ]
}