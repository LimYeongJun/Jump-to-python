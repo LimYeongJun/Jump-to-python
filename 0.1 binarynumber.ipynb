{
  "nbformat": 4,
  "nbformat_minor": 0,
  "metadata": {
    "colab": {
      "name": "Untitled31.ipynb",
      "provenance": [],
      "include_colab_link": true
    },
    "kernelspec": {
      "name": "python3",
      "display_name": "Python 3"
    }
  },
  "cells": [
    {
      "cell_type": "markdown",
      "metadata": {
        "id": "view-in-github",
        "colab_type": "text"
      },
      "source": [
        "<a href=\"https://colab.research.google.com/github/LimYeongJun/Jump-to-python/blob/master/0.1%20binarynumber.ipynb\" target=\"_parent\"><img src=\"https://colab.research.google.com/assets/colab-badge.svg\" alt=\"Open In Colab\"/></a>"
      ]
    },
    {
      "cell_type": "code",
      "metadata": {
        "id": "t-Fcqs1bXRo5",
        "colab_type": "code",
        "colab": {}
      },
      "source": [
        ""
      ],
      "execution_count": 0,
      "outputs": []
    },
    {
      "cell_type": "markdown",
      "metadata": {
        "id": "PAXWA8zyXZAU",
        "colab_type": "text"
      },
      "source": [
        "# 0.1을 2진수로 표현할 수 있을까?\n",
        "\n",
        "## 이진수로 표현이 되지 않는다. 즉, 일반적으로 우리가 사용하는 x86 환경에서는 컴퓨터에서 0.1로 저장이 되지 않고, 0.1에 근사한 이진수의 값으로 표현된다.\n",
        "\n",
        "## 그러면 소수이하는 어떻게 표현하는지 살펴보면\n",
        "\n",
        "## 0.1(2) = 1/(2**1) = 1/2 = 0.5\n",
        "## 0.01(2) = 1/(2**2) = 1/4 = 0.25\n",
        "## 0.001(2) = 1/(2**3) = 1/8 = 0.125\n",
        "\n",
        "## 정수로 표시될 수 있는 수는 1,2,4,8,16,32,64,128,256,512,1024.... 을 결합하면 어떤 수든 만들 수 있다.\n",
        "## 예를 들어 19는 16+2+1 = 10011[2]된다.\n",
        "\n",
        "## 그러나 소수는 1/2,1/4,1/8,1/16,1/32,1/64,1/128....을 결합하여 만들어야 한다.\n",
        "\n",
        "## 예를 들어 0.9를 만들려면\n",
        "## 1/2(0.5) + 1/4(0.25)+1/8(0.125)+.....\n",
        "## 되지만 어떤 수를 계속 더해도 정확하게 0.9를 만들기가 불가능하다.\n",
        "## 물론 무한대로 가면 가능하게지만 컴퓨터는 64자리 까지만 가능하다.\n",
        "\n",
        "## 이런 이유로 0.1도 소수이므로 표현이 불가능하다.\n",
        "\n",
        "## 어떤 컴퓨터는 0.09999999999999대신에 0.1로 나오는 경우도 있는데, 이런 경우 컴퓨터 내부에서 우리 몰래 끝자리를 반올림해주었기 떄문이다."
      ]
    },
    {
      "cell_type": "code",
      "metadata": {
        "id": "AZL3jfxbXbqk",
        "colab_type": "code",
        "colab": {}
      },
      "source": [
        ""
      ],
      "execution_count": 0,
      "outputs": []
    }
  ]
}