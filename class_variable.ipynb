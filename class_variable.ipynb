{
  "nbformat": 4,
  "nbformat_minor": 0,
  "metadata": {
    "colab": {
      "name": "class variable",
      "provenance": [],
      "include_colab_link": true
    },
    "kernelspec": {
      "name": "python3",
      "display_name": "Python 3"
    }
  },
  "cells": [
    {
      "cell_type": "markdown",
      "metadata": {
        "id": "view-in-github",
        "colab_type": "text"
      },
      "source": [
        "<a href=\"https://colab.research.google.com/github/LimYeongJun/Jump-to-python/blob/master/class_variable.ipynb\" target=\"_parent\"><img src=\"https://colab.research.google.com/assets/colab-badge.svg\" alt=\"Open In Colab\"/></a>"
      ]
    },
    {
      "cell_type": "code",
      "metadata": {
        "id": "77wNqmV0TTC0",
        "colab_type": "code",
        "colab": {}
      },
      "source": [
        "class Family:\n",
        "  lastname = \"김\""
      ],
      "execution_count": 0,
      "outputs": []
    },
    {
      "cell_type": "code",
      "metadata": {
        "id": "RcCFvB0pT8aZ",
        "colab_type": "code",
        "colab": {
          "base_uri": "https://localhost:8080/",
          "height": 35
        },
        "outputId": "d2464f11-ba43-4977-c262-b1c1b178e551"
      },
      "source": [
        "print(Family.lastname)"
      ],
      "execution_count": 3,
      "outputs": [
        {
          "output_type": "stream",
          "text": [
            "김\n"
          ],
          "name": "stdout"
        }
      ]
    },
    {
      "cell_type": "code",
      "metadata": {
        "id": "g69VwvxVUB2u",
        "colab_type": "code",
        "colab": {
          "base_uri": "https://localhost:8080/",
          "height": 35
        },
        "outputId": "fa6dee72-28bf-42bb-ad97-e1288b645d9b"
      },
      "source": [
        "a = Family()\n",
        "b = Family()\n",
        "\n",
        "print(a.lastname)"
      ],
      "execution_count": 4,
      "outputs": [
        {
          "output_type": "stream",
          "text": [
            "김\n"
          ],
          "name": "stdout"
        }
      ]
    },
    {
      "cell_type": "code",
      "metadata": {
        "id": "HAELr05DUHar",
        "colab_type": "code",
        "colab": {
          "base_uri": "https://localhost:8080/",
          "height": 35
        },
        "outputId": "c4002ff7-97bc-4fc4-f4cd-336a8776b7c2"
      },
      "source": [
        "print(b.lastname)"
      ],
      "execution_count": 5,
      "outputs": [
        {
          "output_type": "stream",
          "text": [
            "김\n"
          ],
          "name": "stdout"
        }
      ]
    },
    {
      "cell_type": "code",
      "metadata": {
        "id": "bN3BkjhAUIzl",
        "colab_type": "code",
        "colab": {}
      },
      "source": [
        "Family.lastname = \"박\""
      ],
      "execution_count": 0,
      "outputs": []
    },
    {
      "cell_type": "code",
      "metadata": {
        "id": "UICJXxbsUL3t",
        "colab_type": "code",
        "colab": {
          "base_uri": "https://localhost:8080/",
          "height": 35
        },
        "outputId": "52f21c8f-2303-4a1b-870e-3fdba0aef887"
      },
      "source": [
        "print(a.lastname)"
      ],
      "execution_count": 7,
      "outputs": [
        {
          "output_type": "stream",
          "text": [
            "박\n"
          ],
          "name": "stdout"
        }
      ]
    },
    {
      "cell_type": "code",
      "metadata": {
        "id": "zOdgTKqaUNWo",
        "colab_type": "code",
        "colab": {
          "base_uri": "https://localhost:8080/",
          "height": 35
        },
        "outputId": "77953588-eccc-4b58-f849-6637c0bc0ff1"
      },
      "source": [
        "print(b.lastname)"
      ],
      "execution_count": 8,
      "outputs": [
        {
          "output_type": "stream",
          "text": [
            "박\n"
          ],
          "name": "stdout"
        }
      ]
    },
    {
      "cell_type": "code",
      "metadata": {
        "id": "teHdiVa7UOiI",
        "colab_type": "code",
        "colab": {}
      },
      "source": [
        "a.lastname = \"이\""
      ],
      "execution_count": 0,
      "outputs": []
    },
    {
      "cell_type": "code",
      "metadata": {
        "id": "gvWW_U8-URNt",
        "colab_type": "code",
        "colab": {
          "base_uri": "https://localhost:8080/",
          "height": 35
        },
        "outputId": "c120b2e9-0a9b-4ecd-f625-67eb647f061e"
      },
      "source": [
        "print(a.lastname)"
      ],
      "execution_count": 10,
      "outputs": [
        {
          "output_type": "stream",
          "text": [
            "이\n"
          ],
          "name": "stdout"
        }
      ]
    },
    {
      "cell_type": "code",
      "metadata": {
        "id": "5uiDVE17UUr3",
        "colab_type": "code",
        "colab": {
          "base_uri": "https://localhost:8080/",
          "height": 35
        },
        "outputId": "399ed588-67d3-4fa5-8572-9a7475be0592"
      },
      "source": [
        "id(Family.lastname)"
      ],
      "execution_count": 11,
      "outputs": [
        {
          "output_type": "execute_result",
          "data": {
            "text/plain": [
              "140014895172064"
            ]
          },
          "metadata": {
            "tags": []
          },
          "execution_count": 11
        }
      ]
    },
    {
      "cell_type": "code",
      "metadata": {
        "id": "josGtU_mUWuc",
        "colab_type": "code",
        "colab": {
          "base_uri": "https://localhost:8080/",
          "height": 35
        },
        "outputId": "4ecb5035-4c72-440d-ced5-9cd88e486b39"
      },
      "source": [
        "id(a.lastname)"
      ],
      "execution_count": 12,
      "outputs": [
        {
          "output_type": "execute_result",
          "data": {
            "text/plain": [
              "140014895172384"
            ]
          },
          "metadata": {
            "tags": []
          },
          "execution_count": 12
        }
      ]
    },
    {
      "cell_type": "code",
      "metadata": {
        "id": "qNcEOJtOUY7Y",
        "colab_type": "code",
        "colab": {
          "base_uri": "https://localhost:8080/",
          "height": 35
        },
        "outputId": "9fdb265f-e3bc-40ed-8cec-7eadabbe48c1"
      },
      "source": [
        "id(b.lastname)"
      ],
      "execution_count": 13,
      "outputs": [
        {
          "output_type": "execute_result",
          "data": {
            "text/plain": [
              "140014895172064"
            ]
          },
          "metadata": {
            "tags": []
          },
          "execution_count": 13
        }
      ]
    },
    {
      "cell_type": "markdown",
      "metadata": {
        "id": "ZXfBflF9VPVg",
        "colab_type": "text"
      },
      "source": [
        "**위와 같이 같은 클래스 안의 객체들은 같은 id값을 가진다. 하지만 a.lastname을 \"이\" 로 바꾸면 a.lastname만 달라진다. 원래 클래스 변수로 선언하면 id값이 같아서 상식적으로는 전부 다 바뀌어야 되지만 a.lastname만 바뀐 것을 알 수 있다.<br>\n",
        "다른 예를 한번 들어보자.**"
      ]
    },
    {
      "cell_type": "code",
      "metadata": {
        "id": "ZSS9tT_Dby-N",
        "colab_type": "code",
        "colab": {}
      },
      "source": [
        "class food:\n",
        "  fruit = \"apple\""
      ],
      "execution_count": 0,
      "outputs": []
    },
    {
      "cell_type": "code",
      "metadata": {
        "id": "WCzTHN5Ec7-V",
        "colab_type": "code",
        "colab": {
          "base_uri": "https://localhost:8080/",
          "height": 35
        },
        "outputId": "17f34b73-972f-4062-e03a-b8d0eac52c1e"
      },
      "source": [
        "print(food.fruit)"
      ],
      "execution_count": 16,
      "outputs": [
        {
          "output_type": "stream",
          "text": [
            "apple\n"
          ],
          "name": "stdout"
        }
      ]
    },
    {
      "cell_type": "code",
      "metadata": {
        "id": "bTPIlk9jc17_",
        "colab_type": "code",
        "colab": {}
      },
      "source": [
        "a = food()\n",
        "b = food()\n",
        "c = food()\n",
        "d = food()\n",
        "e = food()\n"
      ],
      "execution_count": 0,
      "outputs": []
    },
    {
      "cell_type": "code",
      "metadata": {
        "id": "Zb6c--qXdFv5",
        "colab_type": "code",
        "colab": {
          "base_uri": "https://localhost:8080/",
          "height": 35
        },
        "outputId": "d2bad0c3-3e5d-4dbf-a523-cd95e6c76d75"
      },
      "source": [
        "id(a.fruit)"
      ],
      "execution_count": 20,
      "outputs": [
        {
          "output_type": "execute_result",
          "data": {
            "text/plain": [
              "140014904055544"
            ]
          },
          "metadata": {
            "tags": []
          },
          "execution_count": 20
        }
      ]
    },
    {
      "cell_type": "code",
      "metadata": {
        "id": "7cxe_WandJ3q",
        "colab_type": "code",
        "colab": {
          "base_uri": "https://localhost:8080/",
          "height": 35
        },
        "outputId": "f922cd54-1681-4102-b523-b33d34195d74"
      },
      "source": [
        "id(b.fruit)"
      ],
      "execution_count": 21,
      "outputs": [
        {
          "output_type": "execute_result",
          "data": {
            "text/plain": [
              "140014904055544"
            ]
          },
          "metadata": {
            "tags": []
          },
          "execution_count": 21
        }
      ]
    },
    {
      "cell_type": "code",
      "metadata": {
        "id": "ay-l3wj1dQRz",
        "colab_type": "code",
        "colab": {
          "base_uri": "https://localhost:8080/",
          "height": 35
        },
        "outputId": "b529dcae-63a6-402b-c8a5-917e2a6badc6"
      },
      "source": [
        "id(c.fruit)"
      ],
      "execution_count": 22,
      "outputs": [
        {
          "output_type": "execute_result",
          "data": {
            "text/plain": [
              "140014904055544"
            ]
          },
          "metadata": {
            "tags": []
          },
          "execution_count": 22
        }
      ]
    },
    {
      "cell_type": "code",
      "metadata": {
        "id": "YBiz2v0VdR95",
        "colab_type": "code",
        "colab": {
          "base_uri": "https://localhost:8080/",
          "height": 35
        },
        "outputId": "05c022af-45a8-4aad-8f88-2736df818cc3"
      },
      "source": [
        "id(d.fruit)"
      ],
      "execution_count": 23,
      "outputs": [
        {
          "output_type": "execute_result",
          "data": {
            "text/plain": [
              "140014904055544"
            ]
          },
          "metadata": {
            "tags": []
          },
          "execution_count": 23
        }
      ]
    },
    {
      "cell_type": "code",
      "metadata": {
        "id": "7WeCl-fydULm",
        "colab_type": "code",
        "colab": {
          "base_uri": "https://localhost:8080/",
          "height": 35
        },
        "outputId": "6c4204c2-dc75-4925-d3ec-35eda4795e84"
      },
      "source": [
        "id(e.fruit)"
      ],
      "execution_count": 24,
      "outputs": [
        {
          "output_type": "execute_result",
          "data": {
            "text/plain": [
              "140014904055544"
            ]
          },
          "metadata": {
            "tags": []
          },
          "execution_count": 24
        }
      ]
    },
    {
      "cell_type": "markdown",
      "metadata": {
        "id": "Kkd4Kxm9debD",
        "colab_type": "text"
      },
      "source": [
        "여기서 객체 c를 바꿔보자."
      ]
    },
    {
      "cell_type": "code",
      "metadata": {
        "id": "JdJAAJBGdif_",
        "colab_type": "code",
        "colab": {}
      },
      "source": [
        "c.fruit = \"banana\""
      ],
      "execution_count": 0,
      "outputs": []
    },
    {
      "cell_type": "code",
      "metadata": {
        "id": "LQ3O-193dpM9",
        "colab_type": "code",
        "colab": {
          "base_uri": "https://localhost:8080/",
          "height": 35
        },
        "outputId": "271dd8ab-d5ac-4fe6-830d-653c1a4b87b7"
      },
      "source": [
        "id(a.fruit)"
      ],
      "execution_count": 29,
      "outputs": [
        {
          "output_type": "execute_result",
          "data": {
            "text/plain": [
              "140014904055544"
            ]
          },
          "metadata": {
            "tags": []
          },
          "execution_count": 29
        }
      ]
    },
    {
      "cell_type": "code",
      "metadata": {
        "id": "thDIRuh3eBVw",
        "colab_type": "code",
        "colab": {
          "base_uri": "https://localhost:8080/",
          "height": 35
        },
        "outputId": "61c82861-7de9-4132-d422-af149c304e81"
      },
      "source": [
        "id(b.fruit)"
      ],
      "execution_count": 30,
      "outputs": [
        {
          "output_type": "execute_result",
          "data": {
            "text/plain": [
              "140014904055544"
            ]
          },
          "metadata": {
            "tags": []
          },
          "execution_count": 30
        }
      ]
    },
    {
      "cell_type": "code",
      "metadata": {
        "id": "Ad5-N-nXeCte",
        "colab_type": "code",
        "colab": {
          "base_uri": "https://localhost:8080/",
          "height": 35
        },
        "outputId": "b43e13a4-b197-4a6c-ab9e-f3ebe097e1fe"
      },
      "source": [
        "id(c.fruit)"
      ],
      "execution_count": 31,
      "outputs": [
        {
          "output_type": "execute_result",
          "data": {
            "text/plain": [
              "140014904056104"
            ]
          },
          "metadata": {
            "tags": []
          },
          "execution_count": 31
        }
      ]
    },
    {
      "cell_type": "code",
      "metadata": {
        "id": "7EdkimNdeDzs",
        "colab_type": "code",
        "colab": {
          "base_uri": "https://localhost:8080/",
          "height": 35
        },
        "outputId": "588bf990-ee2c-4bc5-b2fa-cc932bf49fa9"
      },
      "source": [
        "id(d.fruit)"
      ],
      "execution_count": 32,
      "outputs": [
        {
          "output_type": "execute_result",
          "data": {
            "text/plain": [
              "140014904055544"
            ]
          },
          "metadata": {
            "tags": []
          },
          "execution_count": 32
        }
      ]
    },
    {
      "cell_type": "code",
      "metadata": {
        "id": "jwoRuCMveFN7",
        "colab_type": "code",
        "colab": {
          "base_uri": "https://localhost:8080/",
          "height": 35
        },
        "outputId": "4d1ad37b-c615-42f1-f5ee-baae40f89782"
      },
      "source": [
        "id(e.fruit)"
      ],
      "execution_count": 33,
      "outputs": [
        {
          "output_type": "execute_result",
          "data": {
            "text/plain": [
              "140014904055544"
            ]
          },
          "metadata": {
            "tags": []
          },
          "execution_count": 33
        }
      ]
    },
    {
      "cell_type": "code",
      "metadata": {
        "id": "g2_rXYa7eGVY",
        "colab_type": "code",
        "colab": {}
      },
      "source": [
        ""
      ],
      "execution_count": 0,
      "outputs": []
    },
    {
      "cell_type": "markdown",
      "metadata": {
        "id": "gycH3-lYeHcA",
        "colab_type": "text"
      },
      "source": [
        "**이렇게 C의 주소만 바뀌었다.<br>이와 같이 나타나는 이유는 클래스 변수에서 모든 인스턴스 객체를 공유하지만 인스턴스가 클래스 변수에 접근하여 수정할 수는 없기 때문이다. <br>즉 클래스 변수를 바꿀 수는 있어서 클래스 변수를 바꾸면 모든 객체의 주소가 동시에 바뀌지만. 객체가 클래스 변수에 접근하여 수정할 수는 없기 때문에 클래스 변수는 바뀌지 않아서 그 객체의 주소만 바뀌는 것이다.**"
      ]
    },
    {
      "cell_type": "code",
      "metadata": {
        "id": "O0mCkr1cegH6",
        "colab_type": "code",
        "colab": {}
      },
      "source": [
        ""
      ],
      "execution_count": 0,
      "outputs": []
    }
  ]
}